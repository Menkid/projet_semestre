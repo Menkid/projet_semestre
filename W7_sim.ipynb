{
 "cells": [
  {
   "cell_type": "code",
   "execution_count": 4,
   "metadata": {},
   "outputs": [
    {
     "name": "stdout",
     "output_type": "stream",
     "text": [
      "ibmqx2\n"
     ]
    }
   ],
   "source": [
    "import helpers\n",
    "from helpers import *\n",
    "print(least_busy)"
   ]
  },
  {
   "cell_type": "code",
   "execution_count": 5,
   "metadata": {},
   "outputs": [],
   "source": [
    "gate_times_melbourne = [\n",
    "        ('u1', None, 0), ('u2', None, 100), ('u3', None, 200),\n",
    "        ('cx', [1, 0], 678), ('cx', [1, 2], 547), ('cx', [2, 3], 721),\n",
    "        ('cx', [4, 3], 733), ('cx', [4, 10], 721), ('cx', [5, 4], 800),\n",
    "        ('cx', [5, 6], 800), ('cx', [5, 9], 895), ('cx', [6, 8], 895),\n",
    "        ('cx', [7, 8], 640), ('cx', [9, 8], 895), ('cx', [9, 10], 800),\n",
    "        ('cx', [11, 10], 721), ('cx', [11, 3], 634), ('cx', [12, 2], 773),\n",
    "        ('cx', [13, 1], 2286), ('cx', [13, 12], 1504), ('cx', [], 800)\n",
    "    ]\n",
    "\n",
    "noise_model_melbourne = noise.device.basic_device_noise_model(melbourne.properties(), gate_times=gate_times_melbourne)\n",
    "basis_gates_melbourne = noise_model_melbourne.basis_gates\n",
    "coupling_map_melbourne = melbourne.configuration().coupling_map"
   ]
  },
  {
   "cell_type": "markdown",
   "metadata": {},
   "source": [
    "### W8 O(log n)"
   ]
  },
  {
   "cell_type": "code",
   "execution_count": 6,
   "metadata": {},
   "outputs": [
    {
     "name": "stdout",
     "output_type": "stream",
     "text": [
      "         ┌──────────────────┐                             ┌───┐»\n",
      "q1_0: |0>┤ U3(-0.61548,0,0) ├─────────────────────────────┤ X ├»\n",
      "         └──────┬───┬───────┘                        ┌───┐└─┬─┘»\n",
      "q1_1: |0>───────┤ X ├──────────■─────────────────────┤ X ├──■──»\n",
      "         ┌──────┴───┴───────┐┌─┴─┐┌─────────────────┐└─┬─┘     »\n",
      "q1_2: |0>┤ U3(-0.71372,0,0) ├┤ X ├┤ U3(0.71372,0,0) ├──■────■──»\n",
      "         ├─────────────────┬┘└───┘└─────────────────┘     ┌─┴─┐»\n",
      "q1_3: |0>┤ U3(-0.7854,0,0) ├──────────────────────────────┤ X ├»\n",
      "         ├─────────────────┤                              └───┘»\n",
      "q1_4: |0>┤ U3(-0.7854,0,0) ├───────────────────────────────────»\n",
      "         ├─────────────────┤                                   »\n",
      "q1_5: |0>┤ U3(-0.7854,0,0) ├───────────────────────────────────»\n",
      "         ├─────────────────┤                                   »\n",
      "q1_6: |0>┤ U3(-0.7854,0,0) ├───────────────────────────────────»\n",
      "         └─────────────────┘                                   »\n",
      "«      ┌─────────────────┐                                      ┌───┐          \n",
      "«q1_0: ┤ U3(0.61548,0,0) ├──■────■──────────────────────────────┤ X ├──────────\n",
      "«      └─────────────────┘┌─┴─┐  │                              └─┬─┘          \n",
      "«q1_1: ───────────────────┤ X ├──┼────────────────────────────────┼────────────\n",
      "«                         ├───┤  │                                │  ┌───┐     \n",
      "«q1_2: ───────────────────┤ X ├──┼────■───────────────────────────┼──┤ X ├─────\n",
      "«       ┌────────────────┐└─┬─┘  │    │                           │  └─┬─┘┌───┐\n",
      "«q1_3: ─┤ U3(0.7854,0,0) ├──■────┼────┼────■──────────────────────┼────┼──┤ X ├\n",
      "«       └────────────────┘     ┌─┴─┐  │    │  ┌────────────────┐  │    │  └─┬─┘\n",
      "«q1_4: ────────────────────────┤ X ├──┼────┼──┤ U3(0.7854,0,0) ├──■────┼────┼──\n",
      "«                              └───┘┌─┴─┐  │  ├────────────────┤       │    │  \n",
      "«q1_5: ─────────────────────────────┤ X ├──┼──┤ U3(0.7854,0,0) ├───────■────┼──\n",
      "«                                   └───┘┌─┴─┐├────────────────┤            │  \n",
      "«q1_6: ──────────────────────────────────┤ X ├┤ U3(0.7854,0,0) ├────────────■──\n",
      "«                                        └───┘└────────────────┘               \n"
     ]
    }
   ],
   "source": [
    "qreg = QuantumRegister(7)\n",
    "w8 = QuantumCircuit(qreg)\n",
    "w8.x(qreg[1])\n",
    "# 1->2\n",
    "Bdirect(w8, qreg, 2, 1, 3/7)\n",
    "# 1->0\n",
    "# 2->3\n",
    "Bdirect(w8, qreg, 0, 1, 1/3)\n",
    "Bdirect(w8, qreg, 3, 2, 0.5)\n",
    "# 0->4\n",
    "# 2->5\n",
    "# 3->6\n",
    "Bdirect(w8, qreg, 4, 0, 0.5)\n",
    "Bdirect(w8, qreg, 5, 2, 0.5)\n",
    "Bdirect(w8, qreg, 6, 3, 0.5)\n",
    "print(w8)\n",
    "job = qiskit.execute(w8, Aer.get_backend('statevector_simulator'))\n",
    "theorical_psi = job.result().get_statevector(w8)\n",
    "#print(theorical_psi)"
   ]
  },
  {
   "cell_type": "code",
   "execution_count": 7,
   "metadata": {},
   "outputs": [
    {
     "data": {
      "application/vnd.jupyter.widget-view+json": {
       "model_id": "d889d91cd4fe4e708f45e720c4e6bb0f",
       "version_major": 2,
       "version_minor": 0
      },
      "text/plain": [
       "HTML(value=\"<p style='font-size:16px;'>Job Status: job is being initialized </p>\")"
      ]
     },
     "metadata": {},
     "output_type": "display_data"
    },
    {
     "data": {
      "application/vnd.jupyter.widget-view+json": {
       "model_id": "feb449c50f654f1fa025622a3092a668",
       "version_major": 2,
       "version_minor": 0
      },
      "text/plain": [
       "HTML(value=\"<p style='font-size:16px;'>Job Status: job is being initialized </p>\")"
      ]
     },
     "metadata": {},
     "output_type": "display_data"
    },
    {
     "data": {
      "application/vnd.jupyter.widget-view+json": {
       "model_id": "def7e9f75e564c0da72dc05b393aae63",
       "version_major": 2,
       "version_minor": 0
      },
      "text/plain": [
       "HTML(value=\"<p style='font-size:16px;'>Job Status: job is being initialized </p>\")"
      ]
     },
     "metadata": {},
     "output_type": "display_data"
    },
    {
     "data": {
      "application/vnd.jupyter.widget-view+json": {
       "model_id": "e903626ab4bd478087792f7e9430b036",
       "version_major": 2,
       "version_minor": 0
      },
      "text/plain": [
       "HTML(value=\"<p style='font-size:16px;'>Job Status: job is being initialized </p>\")"
      ]
     },
     "metadata": {},
     "output_type": "display_data"
    },
    {
     "data": {
      "application/vnd.jupyter.widget-view+json": {
       "model_id": "5bf2bf29473549b7b0bbda8ace9c9116",
       "version_major": 2,
       "version_minor": 0
      },
      "text/plain": [
       "HTML(value=\"<p style='font-size:16px;'>Job Status: job is being initialized </p>\")"
      ]
     },
     "metadata": {},
     "output_type": "display_data"
    },
    {
     "data": {
      "application/vnd.jupyter.widget-view+json": {
       "model_id": "0d43f312a5e046939bf60517d7b5d7fe",
       "version_major": 2,
       "version_minor": 0
      },
      "text/plain": [
       "HTML(value=\"<p style='font-size:16px;'>Job Status: job is being initialized </p>\")"
      ]
     },
     "metadata": {},
     "output_type": "display_data"
    },
    {
     "data": {
      "application/vnd.jupyter.widget-view+json": {
       "model_id": "124ae2edb5164ed7a1c363a731dc27b9",
       "version_major": 2,
       "version_minor": 0
      },
      "text/plain": [
       "HTML(value=\"<p style='font-size:16px;'>Job Status: job is being initialized </p>\")"
      ]
     },
     "metadata": {},
     "output_type": "display_data"
    },
    {
     "data": {
      "application/vnd.jupyter.widget-view+json": {
       "model_id": "e692228a67c94e13b9ee47c0adcfdf8e",
       "version_major": 2,
       "version_minor": 0
      },
      "text/plain": [
       "HTML(value=\"<p style='font-size:16px;'>Job Status: job is being initialized </p>\")"
      ]
     },
     "metadata": {},
     "output_type": "display_data"
    },
    {
     "data": {
      "application/vnd.jupyter.widget-view+json": {
       "model_id": "afa86a21976b4f6b90f2c5ecad72a343",
       "version_major": 2,
       "version_minor": 0
      },
      "text/plain": [
       "HTML(value=\"<p style='font-size:16px;'>Job Status: job is being initialized </p>\")"
      ]
     },
     "metadata": {},
     "output_type": "display_data"
    },
    {
     "data": {
      "application/vnd.jupyter.widget-view+json": {
       "model_id": "3f0ccff111464898b58c92659c4c6f27",
       "version_major": 2,
       "version_minor": 0
      },
      "text/plain": [
       "HTML(value=\"<p style='font-size:16px;'>Job Status: job is being initialized </p>\")"
      ]
     },
     "metadata": {},
     "output_type": "display_data"
    },
    {
     "data": {
      "application/vnd.jupyter.widget-view+json": {
       "model_id": "bc53175657d2482594f3704e215b9c93",
       "version_major": 2,
       "version_minor": 0
      },
      "text/plain": [
       "HTML(value=\"<p style='font-size:16px;'>Job Status: job is being initialized </p>\")"
      ]
     },
     "metadata": {},
     "output_type": "display_data"
    },
    {
     "data": {
      "application/vnd.jupyter.widget-view+json": {
       "model_id": "e4fb6dd488d74dc280baa9a6b01d29e5",
       "version_major": 2,
       "version_minor": 0
      },
      "text/plain": [
       "HTML(value=\"<p style='font-size:16px;'>Job Status: job is being initialized </p>\")"
      ]
     },
     "metadata": {},
     "output_type": "display_data"
    },
    {
     "data": {
      "application/vnd.jupyter.widget-view+json": {
       "model_id": "7964dc06f873437b836862202b787103",
       "version_major": 2,
       "version_minor": 0
      },
      "text/plain": [
       "HTML(value=\"<p style='font-size:16px;'>Job Status: job is being initialized </p>\")"
      ]
     },
     "metadata": {},
     "output_type": "display_data"
    },
    {
     "data": {
      "application/vnd.jupyter.widget-view+json": {
       "model_id": "f04b80a7e3ce4925bb50c63188defafc",
       "version_major": 2,
       "version_minor": 0
      },
      "text/plain": [
       "HTML(value=\"<p style='font-size:16px;'>Job Status: job is being initialized </p>\")"
      ]
     },
     "metadata": {},
     "output_type": "display_data"
    },
    {
     "data": {
      "application/vnd.jupyter.widget-view+json": {
       "model_id": "96f07ceed3b045b792fc94808203a6bd",
       "version_major": 2,
       "version_minor": 0
      },
      "text/plain": [
       "HTML(value=\"<p style='font-size:16px;'>Job Status: job is being initialized </p>\")"
      ]
     },
     "metadata": {},
     "output_type": "display_data"
    },
    {
     "data": {
      "application/vnd.jupyter.widget-view+json": {
       "model_id": "7f9c721f3b9b4f66ab0e4d2f2758f1af",
       "version_major": 2,
       "version_minor": 0
      },
      "text/plain": [
       "HTML(value=\"<p style='font-size:16px;'>Job Status: job is being initialized </p>\")"
      ]
     },
     "metadata": {},
     "output_type": "display_data"
    },
    {
     "data": {
      "application/vnd.jupyter.widget-view+json": {
       "model_id": "46fdc3b2c4ec4703acf2dbc3bba86617",
       "version_major": 2,
       "version_minor": 0
      },
      "text/plain": [
       "HTML(value=\"<p style='font-size:16px;'>Job Status: job is being initialized </p>\")"
      ]
     },
     "metadata": {},
     "output_type": "display_data"
    },
    {
     "data": {
      "application/vnd.jupyter.widget-view+json": {
       "model_id": "dc63730f841e4c5baec44a48b1f34cb3",
       "version_major": 2,
       "version_minor": 0
      },
      "text/plain": [
       "HTML(value=\"<p style='font-size:16px;'>Job Status: job is being initialized </p>\")"
      ]
     },
     "metadata": {},
     "output_type": "display_data"
    },
    {
     "data": {
      "application/vnd.jupyter.widget-view+json": {
       "model_id": "55cbb36b8e52452cbc2407825de274e3",
       "version_major": 2,
       "version_minor": 0
      },
      "text/plain": [
       "HTML(value=\"<p style='font-size:16px;'>Job Status: job is being initialized </p>\")"
      ]
     },
     "metadata": {},
     "output_type": "display_data"
    },
    {
     "data": {
      "application/vnd.jupyter.widget-view+json": {
       "model_id": "da23367ab39d48c3bf6215f44806441f",
       "version_major": 2,
       "version_minor": 0
      },
      "text/plain": [
       "HTML(value=\"<p style='font-size:16px;'>Job Status: job is being initialized </p>\")"
      ]
     },
     "metadata": {},
     "output_type": "display_data"
    },
    {
     "data": {
      "application/vnd.jupyter.widget-view+json": {
       "model_id": "eb0b126fb5354c31958f50108cb49b21",
       "version_major": 2,
       "version_minor": 0
      },
      "text/plain": [
       "HTML(value=\"<p style='font-size:16px;'>Job Status: job is being initialized </p>\")"
      ]
     },
     "metadata": {},
     "output_type": "display_data"
    },
    {
     "data": {
      "application/vnd.jupyter.widget-view+json": {
       "model_id": "96b74c364e264af7b773295f2084ea49",
       "version_major": 2,
       "version_minor": 0
      },
      "text/plain": [
       "HTML(value=\"<p style='font-size:16px;'>Job Status: job is being initialized </p>\")"
      ]
     },
     "metadata": {},
     "output_type": "display_data"
    },
    {
     "data": {
      "application/vnd.jupyter.widget-view+json": {
       "model_id": "f5db7555bf66430594ce591f0255af5d",
       "version_major": 2,
       "version_minor": 0
      },
      "text/plain": [
       "HTML(value=\"<p style='font-size:16px;'>Job Status: job is being initialized </p>\")"
      ]
     },
     "metadata": {},
     "output_type": "display_data"
    },
    {
     "data": {
      "application/vnd.jupyter.widget-view+json": {
       "model_id": "70baf55529774ae99f04f647863284c2",
       "version_major": 2,
       "version_minor": 0
      },
      "text/plain": [
       "HTML(value=\"<p style='font-size:16px;'>Job Status: job is being initialized </p>\")"
      ]
     },
     "metadata": {},
     "output_type": "display_data"
    },
    {
     "data": {
      "application/vnd.jupyter.widget-view+json": {
       "model_id": "c352744abe6d4b4196e9d794adbe4571",
       "version_major": 2,
       "version_minor": 0
      },
      "text/plain": [
       "HTML(value=\"<p style='font-size:16px;'>Job Status: job is being initialized </p>\")"
      ]
     },
     "metadata": {},
     "output_type": "display_data"
    },
    {
     "data": {
      "application/vnd.jupyter.widget-view+json": {
       "model_id": "6355fe0dbd37446ca2c199593429fe0e",
       "version_major": 2,
       "version_minor": 0
      },
      "text/plain": [
       "HTML(value=\"<p style='font-size:16px;'>Job Status: job is being initialized </p>\")"
      ]
     },
     "metadata": {},
     "output_type": "display_data"
    },
    {
     "data": {
      "application/vnd.jupyter.widget-view+json": {
       "model_id": "56deff33a77746b89e488ee398b8f9a6",
       "version_major": 2,
       "version_minor": 0
      },
      "text/plain": [
       "HTML(value=\"<p style='font-size:16px;'>Job Status: job is being initialized </p>\")"
      ]
     },
     "metadata": {},
     "output_type": "display_data"
    },
    {
     "data": {
      "application/vnd.jupyter.widget-view+json": {
       "model_id": "c0de023804964883a6806b27a17d9cb2",
       "version_major": 2,
       "version_minor": 0
      },
      "text/plain": [
       "HTML(value=\"<p style='font-size:16px;'>Job Status: job is being initialized </p>\")"
      ]
     },
     "metadata": {},
     "output_type": "display_data"
    }
   ],
   "source": [
    "jobs = []\n",
    "cricuits_pool = []\n",
    "tomo_circuits = state_tomography_circuits(w8, qreg)\n",
    "circuits_pool = split_list(tomo_circuits, math.ceil(len(tomo_circuits)/81))\n",
    "for circuits_chunk in circuits_pool:\n",
    "    job = qiskit.execute(circuits_chunk,\n",
    "                         simulator,\n",
    "                         noise_model=noise_model_melbourne,\n",
    "                         coupling_map=coupling_map_melbourne,\n",
    "                         basis_gates=basis_gates_melbourne)\n",
    "    job_monitor(job, monitor_async = True)\n",
    "    jobs.append(job)\n",
    "\n",
    "calib_circuit, state_labels = mc.complete_meas_cal(qr=qreg)\n",
    "job_cal = qiskit.execute(calib_circuit,\n",
    "                         simulator,\n",
    "                         noise_model=noise_model_melbourne,\n",
    "                         coupling_map=coupling_map_melbourne,\n",
    "                         basis_gates=basis_gates_melbourne)\n",
    "job_monitor(job_cal, monitor_async=True)"
   ]
  },
  {
   "cell_type": "code",
   "execution_count": 8,
   "metadata": {},
   "outputs": [
    {
     "ename": "MemoryError",
     "evalue": "",
     "output_type": "error",
     "traceback": [
      "\u001b[1;31m---------------------------------------------------------------------------\u001b[0m",
      "\u001b[1;31mMemoryError\u001b[0m                               Traceback (most recent call last)",
      "\u001b[1;32m<ipython-input-8-9ddacea88452>\u001b[0m in \u001b[0;36m<module>\u001b[1;34m\u001b[0m\n\u001b[0;32m      8\u001b[0m \u001b[0mcorrect_results\u001b[0m \u001b[1;33m=\u001b[0m \u001b[0mmeas_fitter\u001b[0m\u001b[1;33m.\u001b[0m\u001b[0mfilter\u001b[0m\u001b[1;33m.\u001b[0m\u001b[0mapply\u001b[0m\u001b[1;33m(\u001b[0m\u001b[0mresults\u001b[0m\u001b[1;33m)\u001b[0m\u001b[1;33m\u001b[0m\u001b[1;33m\u001b[0m\u001b[0m\n\u001b[0;32m      9\u001b[0m \u001b[0mfitter\u001b[0m \u001b[1;33m=\u001b[0m \u001b[0mStateTomographyFitter\u001b[0m\u001b[1;33m(\u001b[0m\u001b[0mcorrect_results\u001b[0m\u001b[1;33m,\u001b[0m \u001b[0mtomo_circuits\u001b[0m\u001b[1;33m)\u001b[0m\u001b[1;33m\u001b[0m\u001b[1;33m\u001b[0m\u001b[0m\n\u001b[1;32m---> 10\u001b[1;33m \u001b[0mfitted_rho\u001b[0m \u001b[1;33m=\u001b[0m \u001b[0mfitter\u001b[0m\u001b[1;33m.\u001b[0m\u001b[0mfit\u001b[0m\u001b[1;33m(\u001b[0m\u001b[1;33m)\u001b[0m\u001b[1;33m\u001b[0m\u001b[1;33m\u001b[0m\u001b[0m\n\u001b[0m\u001b[0;32m     11\u001b[0m \u001b[0mfidelity\u001b[0m \u001b[1;33m=\u001b[0m \u001b[0mstate_fidelity\u001b[0m\u001b[1;33m(\u001b[0m\u001b[0mtheorical_psi\u001b[0m\u001b[1;33m,\u001b[0m \u001b[0mfitted_rho\u001b[0m\u001b[1;33m)\u001b[0m\u001b[1;33m\u001b[0m\u001b[1;33m\u001b[0m\u001b[0m\n\u001b[0;32m     12\u001b[0m \u001b[0mprint\u001b[0m\u001b[1;33m(\u001b[0m\u001b[0mfidelity\u001b[0m\u001b[1;33m)\u001b[0m\u001b[1;33m\u001b[0m\u001b[1;33m\u001b[0m\u001b[0m\n",
      "\u001b[1;32mD:\\Programmes\\Anaconda3\\envs\\master_pds\\lib\\site-packages\\qiskit\\ignis\\verification\\tomography\\fitters\\state_fitter.py\u001b[0m in \u001b[0;36mfit\u001b[1;34m(self, method, standard_weights, beta, **kwargs)\u001b[0m\n\u001b[0;32m    117\u001b[0m         \"\"\"\n\u001b[0;32m    118\u001b[0m         return super().fit(method, standard_weights, beta,\n\u001b[1;32m--> 119\u001b[1;33m                            trace=1, PSD=True, **kwargs)\n\u001b[0m",
      "\u001b[1;32mD:\\Programmes\\Anaconda3\\envs\\master_pds\\lib\\site-packages\\qiskit\\ignis\\verification\\tomography\\fitters\\base_fitter.py\u001b[0m in \u001b[0;36mfit\u001b[1;34m(self, method, standard_weights, beta, **kwargs)\u001b[0m\n\u001b[0;32m    200\u001b[0m         \u001b[1;31m# Get fitter data\u001b[0m\u001b[1;33m\u001b[0m\u001b[1;33m\u001b[0m\u001b[1;33m\u001b[0m\u001b[0m\n\u001b[0;32m    201\u001b[0m         data, basis_matrix, weights = self._fitter_data(standard_weights,\n\u001b[1;32m--> 202\u001b[1;33m                                                         beta)\n\u001b[0m\u001b[0;32m    203\u001b[0m         \u001b[1;31m# Choose automatic method\u001b[0m\u001b[1;33m\u001b[0m\u001b[1;33m\u001b[0m\u001b[1;33m\u001b[0m\u001b[0m\n\u001b[0;32m    204\u001b[0m         \u001b[1;32mif\u001b[0m \u001b[0mmethod\u001b[0m \u001b[1;33m==\u001b[0m \u001b[1;34m'auto'\u001b[0m\u001b[1;33m:\u001b[0m\u001b[1;33m\u001b[0m\u001b[1;33m\u001b[0m\u001b[0m\n",
      "\u001b[1;32mD:\\Programmes\\Anaconda3\\envs\\master_pds\\lib\\site-packages\\qiskit\\ignis\\verification\\tomography\\fitters\\base_fitter.py\u001b[0m in \u001b[0;36m_fitter_data\u001b[1;34m(self, standard_weights, beta)\u001b[0m\n\u001b[0;32m    330\u001b[0m             \u001b[0mmeas_ops\u001b[0m \u001b[1;33m=\u001b[0m \u001b[0mself\u001b[0m\u001b[1;33m.\u001b[0m\u001b[0m_measurement_ops\u001b[0m\u001b[1;33m(\u001b[0m\u001b[0mmeas_label\u001b[0m\u001b[1;33m,\u001b[0m \u001b[0mmeasurement\u001b[0m\u001b[1;33m)\u001b[0m\u001b[1;33m\u001b[0m\u001b[1;33m\u001b[0m\u001b[0m\n\u001b[0;32m    331\u001b[0m             block = self._basis_operator_matrix(\n\u001b[1;32m--> 332\u001b[1;33m                 [np.kron(prep_op.T, mop) for mop in meas_ops])\n\u001b[0m\u001b[0;32m    333\u001b[0m             \u001b[0mbasis_blocks\u001b[0m\u001b[1;33m.\u001b[0m\u001b[0mappend\u001b[0m\u001b[1;33m(\u001b[0m\u001b[0mblock\u001b[0m\u001b[1;33m)\u001b[0m\u001b[1;33m\u001b[0m\u001b[1;33m\u001b[0m\u001b[0m\n\u001b[0;32m    334\u001b[0m \u001b[1;33m\u001b[0m\u001b[0m\n",
      "\u001b[1;32mD:\\Programmes\\Anaconda3\\envs\\master_pds\\lib\\site-packages\\qiskit\\ignis\\verification\\tomography\\fitters\\base_fitter.py\u001b[0m in \u001b[0;36m_basis_operator_matrix\u001b[1;34m(self, basis)\u001b[0m\n\u001b[0;32m    408\u001b[0m         \u001b[0msize\u001b[0m \u001b[1;33m=\u001b[0m \u001b[0mnrows\u001b[0m \u001b[1;33m*\u001b[0m \u001b[0mncols\u001b[0m\u001b[1;33m\u001b[0m\u001b[1;33m\u001b[0m\u001b[0m\n\u001b[0;32m    409\u001b[0m \u001b[1;33m\u001b[0m\u001b[0m\n\u001b[1;32m--> 410\u001b[1;33m         \u001b[0mret\u001b[0m \u001b[1;33m=\u001b[0m \u001b[0mnp\u001b[0m\u001b[1;33m.\u001b[0m\u001b[0mzeros\u001b[0m\u001b[1;33m(\u001b[0m\u001b[1;33m(\u001b[0m\u001b[0mnum_ops\u001b[0m\u001b[1;33m,\u001b[0m \u001b[0msize\u001b[0m\u001b[1;33m)\u001b[0m\u001b[1;33m,\u001b[0m \u001b[0mdtype\u001b[0m\u001b[1;33m=\u001b[0m\u001b[0mcomplex\u001b[0m\u001b[1;33m)\u001b[0m\u001b[1;33m\u001b[0m\u001b[1;33m\u001b[0m\u001b[0m\n\u001b[0m\u001b[0;32m    411\u001b[0m         \u001b[1;32mfor\u001b[0m \u001b[0mj\u001b[0m\u001b[1;33m,\u001b[0m \u001b[0mb\u001b[0m \u001b[1;32min\u001b[0m \u001b[0menumerate\u001b[0m\u001b[1;33m(\u001b[0m\u001b[0mbasis\u001b[0m\u001b[1;33m)\u001b[0m\u001b[1;33m:\u001b[0m\u001b[1;33m\u001b[0m\u001b[1;33m\u001b[0m\u001b[0m\n\u001b[0;32m    412\u001b[0m             \u001b[0mret\u001b[0m\u001b[1;33m[\u001b[0m\u001b[0mj\u001b[0m\u001b[1;33m]\u001b[0m \u001b[1;33m=\u001b[0m \u001b[0mnp\u001b[0m\u001b[1;33m.\u001b[0m\u001b[0marray\u001b[0m\u001b[1;33m(\u001b[0m\u001b[0mb\u001b[0m\u001b[1;33m)\u001b[0m\u001b[1;33m.\u001b[0m\u001b[0mreshape\u001b[0m\u001b[1;33m(\u001b[0m\u001b[1;33m(\u001b[0m\u001b[1;36m1\u001b[0m\u001b[1;33m,\u001b[0m \u001b[0msize\u001b[0m\u001b[1;33m)\u001b[0m\u001b[1;33m,\u001b[0m \u001b[0morder\u001b[0m\u001b[1;33m=\u001b[0m\u001b[1;34m'F'\u001b[0m\u001b[1;33m)\u001b[0m\u001b[1;33m.\u001b[0m\u001b[0mconj\u001b[0m\u001b[1;33m(\u001b[0m\u001b[1;33m)\u001b[0m\u001b[1;33m\u001b[0m\u001b[1;33m\u001b[0m\u001b[0m\n",
      "\u001b[1;31mMemoryError\u001b[0m: "
     ]
    }
   ],
   "source": [
    "data = []\n",
    "for job in jobs:\n",
    "    data += job.result().results\n",
    "results = jobs[0].result()\n",
    "results.results = data\n",
    "cal_results = job_cal.result()\n",
    "meas_fitter = mc.CompleteMeasFitter(cal_results, state_labels)\n",
    "correct_results = meas_fitter.filter.apply(results)\n",
    "fitter = StateTomographyFitter(correct_results, tomo_circuits)\n",
    "fitted_rho = fitter.fit()\n",
    "fidelity = state_fidelity(theorical_psi, fitted_rho)\n",
    "print(fidelity)"
   ]
  },
  {
   "cell_type": "code",
   "execution_count": null,
   "metadata": {},
   "outputs": [],
   "source": []
  }
 ],
 "metadata": {
  "kernelspec": {
   "display_name": "Python 3",
   "language": "python",
   "name": "python3"
  },
  "language_info": {
   "codemirror_mode": {
    "name": "ipython",
    "version": 3
   },
   "file_extension": ".py",
   "mimetype": "text/x-python",
   "name": "python",
   "nbconvert_exporter": "python",
   "pygments_lexer": "ipython3",
   "version": "3.7.2"
  }
 },
 "nbformat": 4,
 "nbformat_minor": 2
}

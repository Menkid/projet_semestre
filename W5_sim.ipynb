{
 "cells": [
  {
   "cell_type": "code",
   "execution_count": 11,
   "metadata": {},
   "outputs": [],
   "source": [
    "import helpers\n",
    "from helpers import *"
   ]
  },
  {
   "cell_type": "markdown",
   "metadata": {},
   "source": [
    "### W5 O(log n) simulation"
   ]
  },
  {
   "cell_type": "code",
   "execution_count": 10,
   "metadata": {},
   "outputs": [],
   "source": [
    "qreg = QuantumRegister(5)\n",
    "w5 = QuantumCircuit(qreg)\n",
    "w5.x(qreg[1])\n",
    "# 1->2\n",
    "Bdirect(w5, qreg, 2, 1, 2/5)\n",
    "# 1->0\n",
    "# 2->3\n",
    "Bdirect(w5, qreg, 0, 1, 0.5)\n",
    "Bdirect(w5, qreg, 3, 2, 2/3)\n",
    "# 2->4\n",
    "Bdirect(w5, qreg, 4, 2, 0.5)\n",
    "job = qiskit.execute(w5, Aer.get_backend('statevector_simulator'))\n",
    "theorical_psi = job.result().get_statevector(w5)"
   ]
  },
  {
   "cell_type": "code",
   "execution_count": 5,
   "metadata": {},
   "outputs": [
    {
     "data": {
      "application/vnd.jupyter.widget-view+json": {
       "model_id": "4476eca396454a48a1abbbaef9e8066c",
       "version_major": 2,
       "version_minor": 0
      },
      "text/plain": [
       "HTML(value=\"<p style='font-size:16px;'>Job Status: job is being initialized </p>\")"
      ]
     },
     "metadata": {},
     "output_type": "display_data"
    },
    {
     "data": {
      "application/vnd.jupyter.widget-view+json": {
       "model_id": "cfc9a05aa79a4da883c93a9f68e53b64",
       "version_major": 2,
       "version_minor": 0
      },
      "text/plain": [
       "HTML(value=\"<p style='font-size:16px;'>Job Status: job is being initialized </p>\")"
      ]
     },
     "metadata": {},
     "output_type": "display_data"
    }
   ],
   "source": [
    "tomo_circuits = state_tomography_circuits(w5, qreg)\n",
    "job = qiskit.execute(tomo_circuits,\n",
    "                     simulator,\n",
    "                     noise_model=noise_model_melbourne,\n",
    "                     coupling_map=coupling_map_melbourne,\n",
    "                     basis_gates=basis_gates_melbourne)\n",
    "job_monitor(job, monitor_async = True)\n",
    "\n",
    "calib_circuit, state_labels = mc.complete_meas_cal(qr=qreg)\n",
    "job_cal = qiskit.execute(calib_circuit,\n",
    "                         simulator,\n",
    "                         noise_model=noise_model_melbourne,\n",
    "                         coupling_map=coupling_map_melbourne,\n",
    "                         basis_gates=basis_gates_melbourne)\n",
    "job_monitor(job_cal, monitor_async=True)"
   ]
  },
  {
   "cell_type": "code",
   "execution_count": 6,
   "metadata": {},
   "outputs": [
    {
     "name": "stdout",
     "output_type": "stream",
     "text": [
      "0.848677414406781\n"
     ]
    }
   ],
   "source": [
    "job_results = job.result()\n",
    "cal_results = job_cal.result()\n",
    "meas_fitter = mc.CompleteMeasFitter(cal_results, state_labels)\n",
    "correct_results = meas_fitter.filter.apply(job_results)\n",
    "fitter = StateTomographyFitter(correct_results, tomo_circuits)\n",
    "fitted_rho = fitter.fit()\n",
    "fidelity = state_fidelity(theorical_psi, fitted_rho)\n",
    "print(fidelity)"
   ]
  },
  {
   "cell_type": "markdown",
   "metadata": {},
   "source": [
    "previous result: 0.84"
   ]
  }
 ],
 "metadata": {
  "kernelspec": {
   "display_name": "Python 3",
   "language": "python",
   "name": "python3"
  },
  "language_info": {
   "codemirror_mode": {
    "name": "ipython",
    "version": 3
   },
   "file_extension": ".py",
   "mimetype": "text/x-python",
   "name": "python",
   "nbconvert_exporter": "python",
   "pygments_lexer": "ipython3",
   "version": "3.7.2"
  }
 },
 "nbformat": 4,
 "nbformat_minor": 2
}

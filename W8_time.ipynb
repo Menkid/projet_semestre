{
 "cells": [
  {
   "cell_type": "code",
   "execution_count": 1,
   "metadata": {},
   "outputs": [],
   "source": [
    "import helpers\n",
    "from helpers import *"
   ]
  },
  {
   "cell_type": "code",
   "execution_count": 2,
   "metadata": {},
   "outputs": [],
   "source": [
    "qreg = QuantumRegister(8)\n",
    "w8 = QuantumCircuit(qreg)\n",
    "w8.x(qreg[1])\n",
    "# 1->2\n",
    "Bdirect(w8, qreg, 2, 1, 0.5)\n",
    "# 1->0\n",
    "# 2->3\n",
    "Bdirect(w8, qreg, 0, 1, 0.5)\n",
    "Bdirect(w8, qreg, 3, 2, 0.5)\n",
    "# 0->4\n",
    "# 1->5\n",
    "# 2->6\n",
    "# 3->7\n",
    "Bdirect(w8, qreg, 4, 0, 0.5)\n",
    "Bdirect(w8, qreg, 5, 1, 0.5)\n",
    "Bdirect(w8, qreg, 6, 2, 0.5)\n",
    "Bdirect(w8, qreg, 7, 3, 0.5)"
   ]
  },
  {
   "cell_type": "code",
   "execution_count": 6,
   "metadata": {},
   "outputs": [
    {
     "data": {
      "application/vnd.jupyter.widget-view+json": {
       "model_id": "b21e75a04286442eac80ad0b667e6799",
       "version_major": 2,
       "version_minor": 0
      },
      "text/plain": [
       "HTML(value=\"<p style='font-size:16px;'>Job Status: job is being initialized </p>\")"
      ]
     },
     "metadata": {},
     "output_type": "display_data"
    },
    {
     "name": "stdout",
     "output_type": "stream",
     "text": [
      "43.75091886520386\n"
     ]
    }
   ],
   "source": [
    "job = qiskit.execute(w8, melbourne, shots=5000)\n",
    "job_monitor(job, monitor_async=True)\n",
    "while job.status() in [JobStatus.INITIALIZING, JobStatus.VALIDATING, JobStatus.QUEUED]:\n",
    "    time.sleep(0.001)\n",
    "start = time.time()\n",
    "while job.status() == JobStatus.RUNNING:\n",
    "    time.sleep(0.001)\n",
    "end = time.time()\n",
    "print(end - start)"
   ]
  },
  {
   "cell_type": "code",
   "execution_count": null,
   "metadata": {},
   "outputs": [],
   "source": [
    "46.58, 43.75"
   ]
  },
  {
   "cell_type": "code",
   "execution_count": 7,
   "metadata": {},
   "outputs": [],
   "source": [
    "qreg_lin = QuantumRegister(8)\n",
    "w8_lin = QuantumCircuit(qreg_lin)\n",
    "w8_lin.x(qreg_lin[0])\n",
    "Bdirect(w8_lin, qreg_lin, 1, 0, 1/8)\n",
    "Bdirect(w8_lin, qreg_lin, 2, 1, 1/7)\n",
    "Bdirect(w8_lin, qreg_lin, 3, 2, 1/6)\n",
    "Bdirect(w8_lin, qreg_lin, 4, 3, 1/5)\n",
    "Bdirect(w8_lin, qreg_lin, 5, 4, 1/4)\n",
    "Bdirect(w8_lin, qreg_lin, 6, 5, 1/3)\n",
    "Bdirect(w8_lin, qreg_lin, 7, 6, 0.5)"
   ]
  },
  {
   "cell_type": "code",
   "execution_count": 11,
   "metadata": {},
   "outputs": [
    {
     "data": {
      "application/vnd.jupyter.widget-view+json": {
       "model_id": "d6edfb0b9b4e434ba58a8a382e21ebdc",
       "version_major": 2,
       "version_minor": 0
      },
      "text/plain": [
       "HTML(value=\"<p style='font-size:16px;'>Job Status: job is being initialized </p>\")"
      ]
     },
     "metadata": {},
     "output_type": "display_data"
    },
    {
     "name": "stdout",
     "output_type": "stream",
     "text": [
      "45.904507637023926\n"
     ]
    }
   ],
   "source": [
    "job_lin = qiskit.execute(w8_lin, melbourne, shots=5000)\n",
    "job_monitor(job_lin, monitor_async=True)\n",
    "while job_lin.status() in [JobStatus.INITIALIZING, JobStatus.VALIDATING, JobStatus.QUEUED]:\n",
    "    time.sleep(0.001)\n",
    "start_lin = time.time()\n",
    "while job_lin.status() == JobStatus.RUNNING:\n",
    "    time.sleep(0.001)\n",
    "end_lin = time.time()\n",
    "print(end_lin - start_lin)"
   ]
  },
  {
   "cell_type": "code",
   "execution_count": null,
   "metadata": {},
   "outputs": [],
   "source": []
  }
 ],
 "metadata": {
  "kernelspec": {
   "display_name": "Python [conda env:master_pds]",
   "language": "python",
   "name": "conda-env-master_pds-py"
  },
  "language_info": {
   "codemirror_mode": {
    "name": "ipython",
    "version": 3
   },
   "file_extension": ".py",
   "mimetype": "text/x-python",
   "name": "python",
   "nbconvert_exporter": "python",
   "pygments_lexer": "ipython3",
   "version": "3.7.2"
  }
 },
 "nbformat": 4,
 "nbformat_minor": 2
}

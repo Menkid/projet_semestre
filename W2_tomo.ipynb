{
 "cells": [
  {
   "cell_type": "code",
   "execution_count": 1,
   "metadata": {},
   "outputs": [],
   "source": [
    "import helpers\n",
    "from helpers import *"
   ]
  },
  {
   "cell_type": "markdown",
   "metadata": {},
   "source": [
    "### W2"
   ]
  },
  {
   "cell_type": "code",
   "execution_count": 2,
   "metadata": {},
   "outputs": [
    {
     "name": "stdout",
     "output_type": "stream",
     "text": [
      "                ┌───┐                              ┌───┐\n",
      "q0_0: |0>───────┤ X ├─────────■────────────────────┤ X ├\n",
      "         ┌──────┴───┴──────┐┌─┴─┐┌────────────────┐└─┬─┘\n",
      "q0_1: |0>┤ U3(-0.7854,0,0) ├┤ X ├┤ U3(0.7854,0,0) ├──■──\n",
      "         └─────────────────┘└───┘└────────────────┘     \n",
      "[ 0.        +0.j -0.70710678+0.j  0.70710678+0.j  0.        +0.j]\n"
     ]
    }
   ],
   "source": [
    "qreg = QuantumRegister(2)\n",
    "w4 = QuantumCircuit(qreg)\n",
    "w4.x(qreg[0])\n",
    "Bdirect(w4, qreg, 1, 0, 0.5)\n",
    "print(w4)\n",
    "job = qiskit.execute(w4, Aer.get_backend('statevector_simulator'))\n",
    "theorical_psi = job.result().get_statevector(w4)\n",
    "print(theorical_psi)"
   ]
  },
  {
   "cell_type": "code",
   "execution_count": 3,
   "metadata": {},
   "outputs": [],
   "source": [
    "tomo_circuits = state_tomography_circuits(w4, qreg)"
   ]
  },
  {
   "cell_type": "code",
   "execution_count": 4,
   "metadata": {},
   "outputs": [
    {
     "data": {
      "application/vnd.jupyter.widget-view+json": {
       "model_id": "2424f35c30bb48b8ae7f4f98caf510f2",
       "version_major": 2,
       "version_minor": 0
      },
      "text/plain": [
       "HTML(value=\"<p style='font-size:16px;'>Job Status: job is queued </p>\")"
      ]
     },
     "metadata": {},
     "output_type": "display_data"
    },
    {
     "data": {
      "application/vnd.jupyter.widget-view+json": {
       "model_id": "5c5bb7417157442bb1e0f9dc72d1cba1",
       "version_major": 2,
       "version_minor": 0
      },
      "text/plain": [
       "HTML(value=\"<p style='font-size:16px;'>Job Status: job is being initialized </p>\")"
      ]
     },
     "metadata": {},
     "output_type": "display_data"
    }
   ],
   "source": [
    "job = qiskit.execute(tomo_circuits, melbourne, shots=4000)\n",
    "\n",
    "calib_circuit, state_labels = mc.complete_meas_cal(qr=qreg)\n",
    "job_cal = qiskit.execute(calib_circuit, melbourne, shots=4000)\n",
    "\n",
    "job_monitor(job, monitor_async = True)\n",
    "\n",
    "job_monitor(job_cal, monitor_async = True)"
   ]
  },
  {
   "cell_type": "code",
   "execution_count": 5,
   "metadata": {},
   "outputs": [
    {
     "name": "stdout",
     "output_type": "stream",
     "text": [
      "0.9464407051043953\n"
     ]
    }
   ],
   "source": [
    "cal_results = job_cal.result()\n",
    "meas_fitter = mc.CompleteMeasFitter(cal_results, state_labels)\n",
    "correct_results = meas_fitter.filter.apply(job.result())\n",
    "fitter = StateTomographyFitter(correct_results, tomo_circuits)\n",
    "fitted_rho = fitter.fit()\n",
    "fidelity = state_fidelity(theorical_psi, fitted_rho)\n",
    "print(fidelity)"
   ]
  },
  {
   "cell_type": "code",
   "execution_count": 6,
   "metadata": {},
   "outputs": [],
   "source": [
    "# 0.958, 0.946"
   ]
  }
 ],
 "metadata": {
  "kernelspec": {
   "display_name": "Python 3",
   "language": "python",
   "name": "python3"
  },
  "language_info": {
   "codemirror_mode": {
    "name": "ipython",
    "version": 3
   },
   "file_extension": ".py",
   "mimetype": "text/x-python",
   "name": "python",
   "nbconvert_exporter": "python",
   "pygments_lexer": "ipython3",
   "version": "3.7.2"
  }
 },
 "nbformat": 4,
 "nbformat_minor": 2
}

{
 "cells": [
  {
   "cell_type": "code",
   "execution_count": 17,
   "metadata": {},
   "outputs": [],
   "source": [
    "import helpers\n",
    "from helpers import *"
   ]
  },
  {
   "cell_type": "code",
   "execution_count": 18,
   "metadata": {},
   "outputs": [],
   "source": [
    "from qiskit.quantum_info import state_fidelity\n",
    "from qiskit.providers.aer import noise\n",
    "\n",
    "# Tomography functions\n",
    "from qiskit.ignis.verification.tomography import state_tomography_circuits, StateTomographyFitter\n",
    "import qiskit.ignis.mitigation.measurement as mc"
   ]
  },
  {
   "cell_type": "markdown",
   "metadata": {},
   "source": [
    "# W2"
   ]
  },
  {
   "cell_type": "code",
   "execution_count": 19,
   "metadata": {},
   "outputs": [
    {
     "name": "stdout",
     "output_type": "stream",
     "text": [
      "                ┌───┐                  ┌───┐                 ┌───┐\n",
      "q6_0: |0>───────┤ X ├─────────■────────┤ H ├──────────────■──┤ H ├\n",
      "         ┌──────┴───┴──────┐┌─┴─┐┌─────┴───┴──────┐┌───┐┌─┴─┐├───┤\n",
      "q6_1: |0>┤ U3(-0.7854,0,0) ├┤ X ├┤ U3(0.7854,0,0) ├┤ H ├┤ X ├┤ H ├\n",
      "         └─────────────────┘└───┘└────────────────┘└───┘└───┘└───┘\n",
      "[ 0.        +0.j -0.70710678+0.j  0.70710678+0.j  0.        +0.j]\n",
      "                                                                    ░         »\n",
      " q7_0: |0>──────────────────────────────────────────────────────────░─────────»\n",
      "                                                                    ░         »\n",
      " q7_1: |0>──────────────────────────────────────────────────────────░─────────»\n",
      "                                                                    ░         »\n",
      " q7_2: |0>──────────────────────────────────────────────────────────░─────────»\n",
      "                                                                    ░         »\n",
      " q7_3: |0>──────────────────────────────────────────────────────────░─────────»\n",
      "                                                                    ░         »\n",
      " q7_4: |0>──────────────────────────────────────────────────────────░─────────»\n",
      "                                                                    ░         »\n",
      " q7_5: |0>──────────────────────────────────────────────────────────░─────────»\n",
      "                                                                    ░         »\n",
      " q7_6: |0>──────────────────────────────────────────────────────────░─────────»\n",
      "                                                                    ░         »\n",
      " q7_7: |0>──────────────────────────────────────────────────────────░─────────»\n",
      "                                                                    ░         »\n",
      " q7_8: |0>──────────────────────────────────────────────────────────░─────────»\n",
      "                 ┌───┐                  ┌───┐                 ┌───┐ ░ ┌───┐┌─┐»\n",
      " q7_9: |0>───────┤ X ├─────────■────────┤ H ├──────────────■──┤ H ├─░─┤ H ├┤M├»\n",
      "          ┌──────┴───┴──────┐┌─┴─┐┌─────┴───┴──────┐┌───┐┌─┴─┐├───┤ ░ ├───┤└╥┘»\n",
      "q7_10: |0>┤ U3(-0.7854,0,0) ├┤ X ├┤ U3(0.7854,0,0) ├┤ H ├┤ X ├┤ H ├─░─┤ H ├─╫─»\n",
      "          └─────────────────┘└───┘└────────────────┘└───┘└───┘└───┘ ░ └───┘ ║ »\n",
      "q7_11: |0>──────────────────────────────────────────────────────────░───────╫─»\n",
      "                                                                    ░       ║ »\n",
      "q7_12: |0>──────────────────────────────────────────────────────────░───────╫─»\n",
      "                                                                    ░       ║ »\n",
      "q7_13: |0>──────────────────────────────────────────────────────────░───────╫─»\n",
      "                                                                    ░       ║ »\n",
      "  c4_0: 0 ══════════════════════════════════════════════════════════════════╩═»\n",
      "                                                                              »\n",
      "  c4_1: 0 ════════════════════════════════════════════════════════════════════»\n",
      "                                                                              »\n",
      "«          \n",
      "« q7_0: ───\n",
      "«          \n",
      "« q7_1: ───\n",
      "«          \n",
      "« q7_2: ───\n",
      "«          \n",
      "« q7_3: ───\n",
      "«          \n",
      "« q7_4: ───\n",
      "«          \n",
      "« q7_5: ───\n",
      "«          \n",
      "« q7_6: ───\n",
      "«          \n",
      "« q7_7: ───\n",
      "«          \n",
      "« q7_8: ───\n",
      "«          \n",
      "« q7_9: ───\n",
      "«       ┌─┐\n",
      "«q7_10: ┤M├\n",
      "«       └╥┘\n",
      "«q7_11: ─╫─\n",
      "«        ║ \n",
      "«q7_12: ─╫─\n",
      "«        ║ \n",
      "«q7_13: ─╫─\n",
      "«        ║ \n",
      "« c4_0: ═╬═\n",
      "«        ║ \n",
      "« c4_1: ═╩═\n",
      "«          \n",
      "0.9949954505478775\n"
     ]
    }
   ],
   "source": [
    "qreg = QuantumRegister(2)\n",
    "w2 = QuantumCircuit(qreg)\n",
    "w2.x(qreg[0])\n",
    "Bdirect(w2, qreg, 1, 0, 0.5)\n",
    "print(w2)\n",
    "job = qiskit.execute(w2, Aer.get_backend('statevector_simulator'))\n",
    "theorical_psi = job.result().get_statevector(w2)\n",
    "print(theorical_psi)\n",
    "\n",
    "#actual circuit using not-so-bad qbits (9&10)\n",
    "qreg = QuantumRegister(14)\n",
    "w2 = QuantumCircuit(qreg)\n",
    "w2.x(qreg[9])\n",
    "Balt(w2, qreg, 10, 9, 0.5)\n",
    "w2_tomo_circuit = state_tomography_circuits(w2, [qreg[9], qreg[10]])\n",
    "print(w2_tomo_circuit[0])\n",
    "job = qiskit.execute(w2_tomo_circuit, Aer.get_backend('qasm_simulator'), shots=8000)\n",
    "fitter = StateTomographyFitter(job.result(), w2_tomo_circuit)\n",
    "fitted_rho = fitter.fit()\n",
    "fidelity = state_fidelity(theorical_psi, fitted_rho)\n",
    "print(fidelity)\n"
   ]
  },
  {
   "cell_type": "code",
   "execution_count": 20,
   "metadata": {},
   "outputs": [
    {
     "name": "stdout",
     "output_type": "stream",
     "text": [
      "NoiseModel:\n",
      "  Basis gates: ['cx', 'id', 'u2', 'u3']\n",
      "  Instructions with noise: ['u3', 'u2', 'cx', 'measure']\n",
      "  Qubits with noise: [0, 1, 2, 3, 4, 5, 6, 7, 8, 9, 10, 11, 12, 13]\n",
      "  Specific qubit errors: [('u2', [0]), ('u2', [1]), ('u2', [2]), ('u2', [3]), ('u2', [4]), ('u2', [5]), ('u2', [6]), ('u2', [7]), ('u2', [8]), ('u2', [9]), ('u2', [10]), ('u2', [11]), ('u2', [12]), ('u2', [13]), ('u3', [0]), ('u3', [1]), ('u3', [2]), ('u3', [3]), ('u3', [4]), ('u3', [5]), ('u3', [6]), ('u3', [7]), ('u3', [8]), ('u3', [9]), ('u3', [10]), ('u3', [11]), ('u3', [12]), ('u3', [13]), ('cx', [1, 0]), ('cx', [1, 2]), ('cx', [2, 3]), ('cx', [4, 3]), ('cx', [4, 10]), ('cx', [5, 4]), ('cx', [5, 6]), ('cx', [5, 9]), ('cx', [6, 8]), ('cx', [7, 8]), ('cx', [9, 8]), ('cx', [9, 10]), ('cx', [11, 3]), ('cx', [11, 10]), ('cx', [11, 12]), ('cx', [12, 2]), ('cx', [13, 1]), ('cx', [13, 12]), ('measure', [0]), ('measure', [1]), ('measure', [2]), ('measure', [3]), ('measure', [4]), ('measure', [5]), ('measure', [6]), ('measure', [7]), ('measure', [8]), ('measure', [9]), ('measure', [10]), ('measure', [11]), ('measure', [12]), ('measure', [13])]\n"
     ]
    }
   ],
   "source": [
    "gate_times = [\n",
    "        ('u1', None, 0), ('u2', None, 100), ('u3', None, 200),\n",
    "        ('cx', [1, 0], 678), ('cx', [1, 2], 547), ('cx', [2, 3], 721),\n",
    "        ('cx', [4, 3], 733), ('cx', [4, 10], 721), ('cx', [5, 4], 800),\n",
    "        ('cx', [5, 6], 800), ('cx', [5, 9], 895), ('cx', [6, 8], 895),\n",
    "        ('cx', [7, 8], 640), ('cx', [9, 8], 895), ('cx', [9, 10], 800),\n",
    "        ('cx', [11, 10], 721), ('cx', [11, 3], 634), ('cx', [12, 2], 773),\n",
    "        ('cx', [13, 1], 2286), ('cx', [13, 12], 1504), ('cx', [], 800)\n",
    "    ]\n",
    "\n",
    "noise_model = noise.device.basic_device_noise_model(melbourne.properties(), gate_times=gate_times)\n",
    "print(noise_model)"
   ]
  },
  {
   "cell_type": "code",
   "execution_count": 21,
   "metadata": {},
   "outputs": [
    {
     "name": "stderr",
     "output_type": "stream",
     "text": [
      "D:\\Programmes\\Anaconda3\\envs\\master_pds\\lib\\site-packages\\qiskit\\tools\\compiler.py:57: DeprecationWarning: qiskit.compile() is deprecated and will be removed in Qiskit Terra 0.9. Please use qiskit.compiler.transpile() to transform circuits and qiskit.compiler.assemble() to produce a runnable qobj.\n",
      "  DeprecationWarning)\n",
      "D:\\Programmes\\Anaconda3\\envs\\master_pds\\lib\\site-packages\\qiskit\\tools\\compiler.py:57: DeprecationWarning: qiskit.compile() is deprecated and will be removed in Qiskit Terra 0.9. Please use qiskit.compiler.transpile() to transform circuits and qiskit.compiler.assemble() to produce a runnable qobj.\n",
      "  DeprecationWarning)\n"
     ]
    },
    {
     "name": "stdout",
     "output_type": "stream",
     "text": [
      "Fit Fidelity (no correction) = 0.8263963426830249\n",
      "Fit Fidelity (w/ correction) = 0.9460398044902382\n"
     ]
    }
   ],
   "source": [
    "meas_calibs, state_labels = mc.complete_meas_cal(qubit_list=[9, 10])\n",
    "\n",
    "backend = Aer.get_backend('qasm_simulator')\n",
    "\n",
    "qobj_cal = qiskit.compile(meas_calibs, backend=backend, shots=15000)\n",
    "qobj_tomo = qiskit.compile(w2_tomo_circuit, backend=backend, shots=15000)\n",
    "\n",
    "job_cal = backend.run(qobj_cal, noise_model=noise_model)\n",
    "job_tomo = backend.run(qobj_tomo, noise_model=noise_model)\n",
    "\n",
    "meas_fitter = mc.CompleteMeasFitter(job_cal.result(),state_labels)\n",
    "\n",
    "fitter = StateTomographyFitter(job_tomo.result(), w2_tomo_circuit)\n",
    "\n",
    "#no correction\n",
    "fitted_rho = fitter.fit()\n",
    "fidelity = state_fidelity(theorical_psi, fitted_rho)\n",
    "print('Fit Fidelity (no correction) =', fidelity)\n",
    "\n",
    "#correct data\n",
    "correct_tomo_results = meas_fitter.filter.apply(job_tomo.result())\n",
    "fitter = StateTomographyFitter(correct_tomo_results, w2_tomo_circuit)\n",
    "fitted_rho = fitter.fit()\n",
    "fidelity = state_fidelity(theorical_psi, fitted_rho)\n",
    "print('Fit Fidelity (w/ correction) =', fidelity)"
   ]
  },
  {
   "cell_type": "code",
   "execution_count": 22,
   "metadata": {},
   "outputs": [
    {
     "name": "stdout",
     "output_type": "stream",
     "text": [
      "[[ 1.56974518e-02+0.00000000e+00j -2.07396408e-05+4.22594501e-04j\n",
      "   5.83027814e-03-9.78631166e-05j -9.75739946e-03-1.19143714e-03j]\n",
      " [-2.07396408e-05-4.22594501e-04j  4.91288569e-01+0.00000000e+00j\n",
      "  -4.61851682e-01-6.76794643e-04j  2.27379953e-03-1.72429722e-03j]\n",
      " [ 5.83027814e-03+9.78631166e-05j -4.61851682e-01+6.76794643e-04j\n",
      "   4.77087676e-01+0.00000000e+00j  6.80548266e-03-6.38034577e-04j]\n",
      " [-9.75739946e-03+1.19143714e-03j  2.27379953e-03+1.72429722e-03j\n",
      "   6.80548266e-03+6.38034577e-04j  1.59263023e-02+0.00000000e+00j]]\n",
      "[ 0.        +0.j -0.70710678+0.j  0.70710678+0.j  0.        +0.j]\n"
     ]
    }
   ],
   "source": [
    "print(fitted_rho)\n",
    "print(theorical_psi)"
   ]
  },
  {
   "cell_type": "markdown",
   "metadata": {},
   "source": [
    "#### sim vs device"
   ]
  },
  {
   "cell_type": "code",
   "execution_count": 23,
   "metadata": {},
   "outputs": [
    {
     "name": "stderr",
     "output_type": "stream",
     "text": [
      "D:\\Programmes\\Anaconda3\\envs\\master_pds\\lib\\site-packages\\qiskit\\tools\\compiler.py:57: DeprecationWarning: qiskit.compile() is deprecated and will be removed in Qiskit Terra 0.9. Please use qiskit.compiler.transpile() to transform circuits and qiskit.compiler.assemble() to produce a runnable qobj.\n",
      "  DeprecationWarning)\n",
      "D:\\Programmes\\Anaconda3\\envs\\master_pds\\lib\\site-packages\\qiskit\\tools\\compiler.py:57: DeprecationWarning: qiskit.compile() is deprecated and will be removed in Qiskit Terra 0.9. Please use qiskit.compiler.transpile() to transform circuits and qiskit.compiler.assemble() to produce a runnable qobj.\n",
      "  DeprecationWarning)\n"
     ]
    },
    {
     "data": {
      "application/vnd.jupyter.widget-view+json": {
       "model_id": "20b5996d8ed940a1aa8c05392a6fab5b",
       "version_major": 2,
       "version_minor": 0
      },
      "text/plain": [
       "HTML(value=\"<p style='font-size:16px;'>Job Status: job is being initialized </p>\")"
      ]
     },
     "metadata": {},
     "output_type": "display_data"
    },
    {
     "data": {
      "application/vnd.jupyter.widget-view+json": {
       "model_id": "641e01338cde437e84555225bc52db61",
       "version_major": 2,
       "version_minor": 0
      },
      "text/plain": [
       "HTML(value=\"<p style='font-size:16px;'>Job Status: job is being initialized </p>\")"
      ]
     },
     "metadata": {},
     "output_type": "display_data"
    }
   ],
   "source": [
    "meas_calibs, state_labels = mc.complete_meas_cal(qubit_list=[9, 10])\n",
    "\n",
    "backend = melbourne\n",
    "\n",
    "qobj_cal = qiskit.compile(meas_calibs, backend=backend, shots=1000)\n",
    "qobj_tomo = qiskit.compile(w2_tomo_circuit, backend=backend, shots=1000)\n",
    "\n",
    "job_cal = backend.run(qobj_cal)\n",
    "job_tomo = backend.run(qobj_tomo)\n",
    "\n",
    "job_monitor(job_cal, monitor_async=True)\n",
    "job_monitor(job_tomo, monitor_async=True)"
   ]
  },
  {
   "cell_type": "code",
   "execution_count": 24,
   "metadata": {},
   "outputs": [],
   "source": [
    "cal_results = job_cal.result()\n",
    "tomo_results = job_tomo.result()"
   ]
  },
  {
   "cell_type": "code",
   "execution_count": 26,
   "metadata": {},
   "outputs": [
    {
     "name": "stdout",
     "output_type": "stream",
     "text": [
      "Fit Fidelity (no correction) = 0.7485447292384284\n",
      "Fit Fidelity (w/ correction) = 0.8665055391714731\n"
     ]
    }
   ],
   "source": [
    "meas_fitter = mc.CompleteMeasFitter(cal_results,state_labels)\n",
    "\n",
    "fitter = StateTomographyFitter(tomo_results, w2_tomo_circuit)\n",
    "\n",
    "#no correction\n",
    "fitted_rho = fitter.fit()\n",
    "fidelity = state_fidelity(theorical_psi, fitted_rho)\n",
    "print('Fit Fidelity (no correction) =', fidelity)\n",
    "\n",
    "#correct data\n",
    "correct_tomo_results = meas_fitter.filter.apply(job_tomo.result())\n",
    "fitter = StateTomographyFitter(correct_tomo_results, w2_tomo_circuit)\n",
    "fitted_rho = fitter.fit()\n",
    "fidelity = state_fidelity(theorical_psi, fitted_rho)\n",
    "print('Fit Fidelity (w/ correction) =', fidelity)"
   ]
  },
  {
   "cell_type": "code",
   "execution_count": null,
   "metadata": {},
   "outputs": [],
   "source": []
  }
 ],
 "metadata": {
  "kernelspec": {
   "display_name": "Python [conda env:master_pds]",
   "language": "python",
   "name": "conda-env-master_pds-py"
  },
  "language_info": {
   "codemirror_mode": {
    "name": "ipython",
    "version": 3
   },
   "file_extension": ".py",
   "mimetype": "text/x-python",
   "name": "python",
   "nbconvert_exporter": "python",
   "pygments_lexer": "ipython3",
   "version": "3.7.2"
  }
 },
 "nbformat": 4,
 "nbformat_minor": 2
}

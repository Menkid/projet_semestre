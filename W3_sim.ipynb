{
 "cells": [
  {
   "cell_type": "code",
   "execution_count": 6,
   "metadata": {},
   "outputs": [
    {
     "name": "stdout",
     "output_type": "stream",
     "text": [
      "ibmqx2\n"
     ]
    }
   ],
   "source": [
    "import helpers\n",
    "from helpers import *\n",
    "print(least_busy)"
   ]
  },
  {
   "cell_type": "code",
   "execution_count": 7,
   "metadata": {},
   "outputs": [],
   "source": [
    "gate_times_melbourne = [\n",
    "        ('u1', None, 0), ('u2', None, 100), ('u3', None, 200),\n",
    "        ('cx', [1, 0], 678), ('cx', [1, 2], 547), ('cx', [2, 3], 721),\n",
    "        ('cx', [4, 3], 733), ('cx', [4, 10], 721), ('cx', [5, 4], 800),\n",
    "        ('cx', [5, 6], 800), ('cx', [5, 9], 895), ('cx', [6, 8], 895),\n",
    "        ('cx', [7, 8], 640), ('cx', [9, 8], 895), ('cx', [9, 10], 800),\n",
    "        ('cx', [11, 10], 721), ('cx', [11, 3], 634), ('cx', [12, 2], 773),\n",
    "        ('cx', [13, 1], 2286), ('cx', [13, 12], 1504), ('cx', [], 800)\n",
    "    ]\n",
    "\n",
    "noise_model_melbourne = noise.device.basic_device_noise_model(melbourne.properties(), gate_times=gate_times_melbourne)\n",
    "basis_gates_melbourne = noise_model_melbourne.basis_gates\n",
    "coupling_map_melbourne = melbourne.configuration().coupling_map"
   ]
  },
  {
   "cell_type": "markdown",
   "metadata": {},
   "source": [
    "### W8 O(log n)"
   ]
  },
  {
   "cell_type": "code",
   "execution_count": 8,
   "metadata": {},
   "outputs": [
    {
     "name": "stdout",
     "output_type": "stream",
     "text": [
      "                ┌───┐                                ┌───┐     »\n",
      "q1_0: |0>───────┤ X ├──────────■─────────────────────┤ X ├─────»\n",
      "         ┌──────┴───┴───────┐┌─┴─┐┌─────────────────┐└─┬─┘     »\n",
      "q1_1: |0>┤ U3(-0.61548,0,0) ├┤ X ├┤ U3(0.61548,0,0) ├──■────■──»\n",
      "         ├─────────────────┬┘└───┘└─────────────────┘     ┌─┴─┐»\n",
      "q1_2: |0>┤ U3(-0.7854,0,0) ├──────────────────────────────┤ X ├»\n",
      "         └─────────────────┘                              └───┘»\n",
      "«                             \n",
      "«q1_0: ───────────────────────\n",
      "«                        ┌───┐\n",
      "«q1_1: ──────────────────┤ X ├\n",
      "«      ┌────────────────┐└─┬─┘\n",
      "«q1_2: ┤ U3(0.7854,0,0) ├──■──\n",
      "«      └────────────────┘     \n"
     ]
    }
   ],
   "source": [
    "qreg = QuantumRegister(3)\n",
    "w8 = QuantumCircuit(qreg)\n",
    "w8.x(qreg[0])\n",
    "# 0->1\n",
    "Bdirect(w8, qreg, 1, 0, 1/3)\n",
    "# 1->2\n",
    "Bdirect(w8, qreg, 2, 1, 0.5)\n",
    "print(w8)\n",
    "job = qiskit.execute(w8, Aer.get_backend('statevector_simulator'))\n",
    "theorical_psi = job.result().get_statevector(w8)\n",
    "#print(theorical_psi)"
   ]
  },
  {
   "cell_type": "code",
   "execution_count": 9,
   "metadata": {},
   "outputs": [
    {
     "data": {
      "application/vnd.jupyter.widget-view+json": {
       "model_id": "beefcde5a3d44a54a2c1dfe7901058c6",
       "version_major": 2,
       "version_minor": 0
      },
      "text/plain": [
       "HTML(value=\"<p style='font-size:16px;'>Job Status: job is being initialized </p>\")"
      ]
     },
     "metadata": {},
     "output_type": "display_data"
    },
    {
     "data": {
      "application/vnd.jupyter.widget-view+json": {
       "model_id": "9490211a59b1435d9a2801c09db50851",
       "version_major": 2,
       "version_minor": 0
      },
      "text/plain": [
       "HTML(value=\"<p style='font-size:16px;'>Job Status: job is being initialized </p>\")"
      ]
     },
     "metadata": {},
     "output_type": "display_data"
    }
   ],
   "source": [
    "tomo_circuits = state_tomography_circuits(w8, qreg)\n",
    "job = qiskit.execute(tomo_circuits,\n",
    "                     simulator,\n",
    "                     noise_model=noise_model_melbourne,\n",
    "                     coupling_map=coupling_map_melbourne,\n",
    "                     basis_gates=basis_gates_melbourne)\n",
    "job_monitor(job, monitor_async = True)\n",
    "\n",
    "calib_circuit, state_labels = mc.complete_meas_cal(qr=qreg)\n",
    "job_cal = qiskit.execute(calib_circuit,\n",
    "                         simulator,\n",
    "                         noise_model=noise_model_melbourne,\n",
    "                         coupling_map=coupling_map_melbourne,\n",
    "                         basis_gates=basis_gates_melbourne)\n",
    "job_monitor(job_cal, monitor_async=True)"
   ]
  },
  {
   "cell_type": "code",
   "execution_count": 10,
   "metadata": {},
   "outputs": [
    {
     "name": "stdout",
     "output_type": "stream",
     "text": [
      "0.925055989628867\n"
     ]
    }
   ],
   "source": [
    "job_results = job.result()\n",
    "cal_results = job_cal.result()\n",
    "meas_fitter = mc.CompleteMeasFitter(cal_results, state_labels)\n",
    "correct_results = meas_fitter.filter.apply(job_results)\n",
    "fitter = StateTomographyFitter(correct_results, tomo_circuits)\n",
    "fitted_rho = fitter.fit()\n",
    "fidelity = state_fidelity(theorical_psi, fitted_rho)\n",
    "print(fidelity)"
   ]
  },
  {
   "cell_type": "code",
   "execution_count": null,
   "metadata": {},
   "outputs": [],
   "source": []
  }
 ],
 "metadata": {
  "kernelspec": {
   "display_name": "Python 3",
   "language": "python",
   "name": "python3"
  },
  "language_info": {
   "codemirror_mode": {
    "name": "ipython",
    "version": 3
   },
   "file_extension": ".py",
   "mimetype": "text/x-python",
   "name": "python",
   "nbconvert_exporter": "python",
   "pygments_lexer": "ipython3",
   "version": "3.7.2"
  }
 },
 "nbformat": 4,
 "nbformat_minor": 2
}

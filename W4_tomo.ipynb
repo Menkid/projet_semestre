{
 "cells": [
  {
   "cell_type": "code",
   "execution_count": 150,
   "metadata": {},
   "outputs": [],
   "source": [
    "import helpers\n",
    "from helpers import *"
   ]
  },
  {
   "cell_type": "markdown",
   "metadata": {},
   "source": [
    "### W4 O(log n)"
   ]
  },
  {
   "cell_type": "code",
   "execution_count": 151,
   "metadata": {},
   "outputs": [
    {
     "name": "stdout",
     "output_type": "stream",
     "text": [
      "         ┌─────────────────┐                            ┌───┐┌────────────────┐»\n",
      "q9_0: |0>┤ U3(-0.7854,0,0) ├────────────────────────────┤ X ├┤ U3(0.7854,0,0) ├»\n",
      "         └──────┬───┬──────┘                       ┌───┐└─┬─┘└────────────────┘»\n",
      "q9_1: |0>───────┤ X ├─────────■────────────────────┤ X ├──■────────────────────»\n",
      "         ┌──────┴───┴──────┐┌─┴─┐┌────────────────┐└─┬─┘                       »\n",
      "q9_2: |0>┤ U3(-0.7854,0,0) ├┤ X ├┤ U3(0.7854,0,0) ├──■────■────────────────────»\n",
      "         ├─────────────────┤└───┘└────────────────┘     ┌─┴─┐┌────────────────┐»\n",
      "q9_3: |0>┤ U3(-0.7854,0,0) ├────────────────────────────┤ X ├┤ U3(0.7854,0,0) ├»\n",
      "         └─────────────────┘                            └───┘└────────────────┘»\n",
      "«           \n",
      "«q9_0: ──■──\n",
      "«      ┌─┴─┐\n",
      "«q9_1: ┤ X ├\n",
      "«      ├───┤\n",
      "«q9_2: ┤ X ├\n",
      "«      └─┬─┘\n",
      "«q9_3: ──■──\n",
      "«           \n",
      "[ 0. +0.j -0.5+0.j  0.5+0.j  0. +0.j -0.5+0.j  0. +0.j  0. +0.j  0. +0.j\n",
      "  0.5+0.j  0. +0.j  0. +0.j  0. +0.j  0. +0.j  0. +0.j  0. +0.j  0. +0.j]\n"
     ]
    }
   ],
   "source": [
    "qreg = QuantumRegister(4)\n",
    "w4 = QuantumCircuit(qreg)\n",
    "w4.x(qreg[1])\n",
    "Bdirect(w4, qreg, 2, 1, 0.5)\n",
    "Bdirect(w4, qreg, 0, 1, 0.5)\n",
    "Bdirect(w4, qreg, 3, 2, 0.5)\n",
    "print(w4)\n",
    "job = qiskit.execute(w4, Aer.get_backend('statevector_simulator'))\n",
    "theorical_psi = job.result().get_statevector(w4)\n",
    "print(theorical_psi)"
   ]
  },
  {
   "cell_type": "code",
   "execution_count": 152,
   "metadata": {},
   "outputs": [],
   "source": [
    "tomo_circuits = state_tomography_circuits(w4, qreg)"
   ]
  },
  {
   "cell_type": "code",
   "execution_count": 153,
   "metadata": {},
   "outputs": [
    {
     "data": {
      "application/vnd.jupyter.widget-view+json": {
       "model_id": "e58a33e04e4b4431954e9b075a303b08",
       "version_major": 2,
       "version_minor": 0
      },
      "text/plain": [
       "HTML(value=\"<p style='font-size:16px;'>Job Status: job is queued </p>\")"
      ]
     },
     "metadata": {},
     "output_type": "display_data"
    },
    {
     "data": {
      "application/vnd.jupyter.widget-view+json": {
       "model_id": "5261b9d2437c44e68ac344138250057c",
       "version_major": 2,
       "version_minor": 0
      },
      "text/plain": [
       "HTML(value=\"<p style='font-size:16px;'>Job Status: job is queued </p>\")"
      ]
     },
     "metadata": {},
     "output_type": "display_data"
    },
    {
     "data": {
      "application/vnd.jupyter.widget-view+json": {
       "model_id": "26c4acb4fc3b43f68332916461c929b1",
       "version_major": 2,
       "version_minor": 0
      },
      "text/plain": [
       "HTML(value=\"<p style='font-size:16px;'>Job Status: job is queued </p>\")"
      ]
     },
     "metadata": {},
     "output_type": "display_data"
    }
   ],
   "source": [
    "# job = qiskit.execute(tomo_circuits, least_busy, shots=4000)\n",
    "jobs = []\n",
    "circuits_pool = split_list(tomo_circuits, math.ceil(len(tomo_circuits)/27))\n",
    "for circuits_list in circuits_pool:\n",
    "    job = qiskit.execute(circuits_list, melbourne, shots=4000)\n",
    "    jobs.append(job)\n",
    "\n",
    "calib_circuit, state_labels = mc.complete_meas_cal(qr=qreg)\n",
    "job_cal = qiskit.execute(calib_circuit, melbourne, shots=4000)\n",
    "\n",
    "for job in jobs:\n",
    "    job_monitor(job, monitor_async = True)\n",
    "\n",
    "job_monitor(job_cal, monitor_async = True)"
   ]
  },
  {
   "cell_type": "code",
   "execution_count": 157,
   "metadata": {},
   "outputs": [],
   "source": [
    "results = []\n",
    "for job in jobs:\n",
    "    results.append(copy.deepcopy(job.result()))"
   ]
  },
  {
   "cell_type": "code",
   "execution_count": 158,
   "metadata": {},
   "outputs": [],
   "source": [
    "data = []\n",
    "for result in results:\n",
    "    data += result.results\n",
    "grouped_results = results[0]\n",
    "grouped_results.results = data"
   ]
  },
  {
   "cell_type": "code",
   "execution_count": 159,
   "metadata": {},
   "outputs": [
    {
     "name": "stdout",
     "output_type": "stream",
     "text": [
      "0.37783759758822777\n"
     ]
    }
   ],
   "source": [
    "fitter = StateTomographyFitter(grouped_results, tomo_circuits)\n",
    "fitted_rho = fitter.fit()\n",
    "fidelity = state_fidelity(theorical_psi, fitted_rho)\n",
    "print(fidelity)"
   ]
  },
  {
   "cell_type": "code",
   "execution_count": 160,
   "metadata": {},
   "outputs": [
    {
     "name": "stdout",
     "output_type": "stream",
     "text": [
      "0.7267080486060048\n"
     ]
    }
   ],
   "source": [
    "cal_results = job_cal.result()\n",
    "meas_fitter = mc.CompleteMeasFitter(cal_results, state_labels)\n",
    "correct_results = meas_fitter.filter.apply(grouped_results)\n",
    "fitter = StateTomographyFitter(correct_results, tomo_circuits)\n",
    "fitted_rho = fitter.fit()\n",
    "fidelity = state_fidelity(theorical_psi, fitted_rho)\n",
    "print(fidelity)"
   ]
  },
  {
   "cell_type": "markdown",
   "metadata": {},
   "source": [
    "### W4 O(n)"
   ]
  },
  {
   "cell_type": "code",
   "execution_count": 161,
   "metadata": {},
   "outputs": [
    {
     "name": "stdout",
     "output_type": "stream",
     "text": [
      "                 ┌───┐                               ┌───┐     »\n",
      "q11_0: |0>───────┤ X ├──────────■────────────────────┤ X ├─────»\n",
      "          ┌──────┴───┴──────┐ ┌─┴─┐┌────────────────┐└─┬─┘     »\n",
      "q11_1: |0>┤ U3(-0.5236,0,0) ├─┤ X ├┤ U3(0.5236,0,0) ├──■────■──»\n",
      "          ├─────────────────┴┐└───┘└────────────────┘     ┌─┴─┐»\n",
      "q11_2: |0>┤ U3(-0.61548,0,0) ├────────────────────────────┤ X ├»\n",
      "          ├─────────────────┬┘                            └───┘»\n",
      "q11_3: |0>┤ U3(-0.7854,0,0) ├──────────────────────────────────»\n",
      "          └─────────────────┘                                  »\n",
      "«                                                           \n",
      "«q11_0: ────────────────────────────────────────────────────\n",
      "«                          ┌───┐                            \n",
      "«q11_1: ───────────────────┤ X ├────────────────────────────\n",
      "«       ┌─────────────────┐└─┬─┘                       ┌───┐\n",
      "«q11_2: ┤ U3(0.61548,0,0) ├──■────■────────────────────┤ X ├\n",
      "«       └─────────────────┘     ┌─┴─┐┌────────────────┐└─┬─┘\n",
      "«q11_3: ────────────────────────┤ X ├┤ U3(0.7854,0,0) ├──■──\n",
      "«                               └───┘└────────────────┘     \n",
      "[ 0. +0.j -0.5+0.j -0.5+0.j  0. +0.j -0.5+0.j  0. +0.j  0. +0.j  0. +0.j\n",
      "  0.5+0.j  0. +0.j  0. +0.j  0. +0.j  0. +0.j  0. +0.j  0. +0.j  0. +0.j]\n"
     ]
    }
   ],
   "source": [
    "qreg_lin = QuantumRegister(4)\n",
    "w4_lin = QuantumCircuit(qreg_lin)\n",
    "w4_lin.x(qreg_lin[0])\n",
    "Bdirect(w4_lin, qreg_lin, 1, 0, 1/4)\n",
    "Bdirect(w4_lin, qreg_lin, 2, 1, 1/3)\n",
    "Bdirect(w4_lin, qreg_lin, 3, 2, 0.5)\n",
    "print(w4_lin)\n",
    "job_lin = qiskit.execute(w4_lin, Aer.get_backend('statevector_simulator'))\n",
    "theorical_psi_lin = job_lin.result().get_statevector(w4_lin)\n",
    "print(theorical_psi_lin)"
   ]
  },
  {
   "cell_type": "code",
   "execution_count": 162,
   "metadata": {},
   "outputs": [],
   "source": [
    "tomo_circuits_lin = state_tomography_circuits(w4_lin, qreg_lin)"
   ]
  },
  {
   "cell_type": "code",
   "execution_count": 163,
   "metadata": {},
   "outputs": [
    {
     "data": {
      "application/vnd.jupyter.widget-view+json": {
       "model_id": "befd4dab340b43868f4378d03fbcfce6",
       "version_major": 2,
       "version_minor": 0
      },
      "text/plain": [
       "HTML(value=\"<p style='font-size:16px;'>Job Status: job is queued </p>\")"
      ]
     },
     "metadata": {},
     "output_type": "display_data"
    },
    {
     "data": {
      "application/vnd.jupyter.widget-view+json": {
       "model_id": "73e754e5d5c4467dabadcdb8162425b4",
       "version_major": 2,
       "version_minor": 0
      },
      "text/plain": [
       "HTML(value=\"<p style='font-size:16px;'>Job Status: job is queued </p>\")"
      ]
     },
     "metadata": {},
     "output_type": "display_data"
    },
    {
     "data": {
      "application/vnd.jupyter.widget-view+json": {
       "model_id": "2ea1baa5dca143a9be9f27a5c565f1d6",
       "version_major": 2,
       "version_minor": 0
      },
      "text/plain": [
       "HTML(value=\"<p style='font-size:16px;'>Job Status: job is queued </p>\")"
      ]
     },
     "metadata": {},
     "output_type": "display_data"
    },
    {
     "data": {
      "application/vnd.jupyter.widget-view+json": {
       "model_id": "2dc60cfb1996465082509ffe5188c5d0",
       "version_major": 2,
       "version_minor": 0
      },
      "text/plain": [
       "HTML(value=\"<p style='font-size:16px;'>Job Status: job is queued </p>\")"
      ]
     },
     "metadata": {},
     "output_type": "display_data"
    }
   ],
   "source": [
    "# job = qiskit.execute(tomo_circuits, least_busy, shots=4000)\n",
    "jobs_lin = []\n",
    "circuits_pool_lin = split_list(tomo_circuits_lin, math.ceil(len(tomo_circuits_lin)/27))\n",
    "for circuits_list in circuits_pool_lin:\n",
    "    job_lin = qiskit.execute(circuits_list, melbourne, shots=4000)\n",
    "    jobs_lin.append(job_lin)\n",
    "\n",
    "calib_circuit_lin, state_labels_lin = mc.complete_meas_cal(qr=qreg_lin)\n",
    "job_cal_lin = qiskit.execute(calib_circuit_lin, melbourne, shots=4000)\n",
    "\n",
    "for job in jobs_lin:\n",
    "    job_monitor(job, monitor_async = True)\n",
    "\n",
    "job_monitor(job_cal_lin, monitor_async=True)"
   ]
  },
  {
   "cell_type": "code",
   "execution_count": 164,
   "metadata": {},
   "outputs": [],
   "source": [
    "results_lin = []\n",
    "for job in jobs_lin:\n",
    "    results_lin.append(copy.deepcopy(job.result()))"
   ]
  },
  {
   "cell_type": "code",
   "execution_count": 165,
   "metadata": {},
   "outputs": [],
   "source": [
    "data_lin = []\n",
    "for result in results_lin:\n",
    "    data_lin += result.results\n",
    "grouped_results_lin = results_lin[0]\n",
    "grouped_results_lin.results = data_lin"
   ]
  },
  {
   "cell_type": "code",
   "execution_count": 166,
   "metadata": {},
   "outputs": [
    {
     "name": "stdout",
     "output_type": "stream",
     "text": [
      "0.2981906685101153\n"
     ]
    }
   ],
   "source": [
    "fitter_lin = StateTomographyFitter(grouped_results_lin, tomo_circuits_lin)\n",
    "fitted_rho_lin = fitter_lin.fit()\n",
    "fidelity_lin = state_fidelity(theorical_psi_lin, fitted_rho_lin)\n",
    "print(fidelity_lin)"
   ]
  },
  {
   "cell_type": "code",
   "execution_count": 167,
   "metadata": {},
   "outputs": [
    {
     "name": "stdout",
     "output_type": "stream",
     "text": [
      "0.5068284966187133\n"
     ]
    }
   ],
   "source": [
    "cal_results_lin = job_cal_lin.result()\n",
    "meas_fitter_lin = mc.CompleteMeasFitter(cal_results_lin, state_labels_lin)\n",
    "correct_results_lin = meas_fitter_lin.filter.apply(grouped_results_lin)\n",
    "fitter_lin = StateTomographyFitter(correct_results_lin, tomo_circuits_lin)\n",
    "fitted_rho_lin = fitter_lin.fit()\n",
    "fidelity_lin = state_fidelity(theorical_psi_lin, fitted_rho_lin)\n",
    "print(fidelity_lin)"
   ]
  },
  {
   "cell_type": "code",
   "execution_count": null,
   "metadata": {},
   "outputs": [],
   "source": []
  }
 ],
 "metadata": {
  "kernelspec": {
   "display_name": "Python 3",
   "language": "python",
   "name": "python3"
  },
  "language_info": {
   "codemirror_mode": {
    "name": "ipython",
    "version": 3
   },
   "file_extension": ".py",
   "mimetype": "text/x-python",
   "name": "python",
   "nbconvert_exporter": "python",
   "pygments_lexer": "ipython3",
   "version": "3.7.2"
  }
 },
 "nbformat": 4,
 "nbformat_minor": 2
}

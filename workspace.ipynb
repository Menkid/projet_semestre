{
 "cells": [
  {
   "cell_type": "code",
   "execution_count": 1,
   "metadata": {},
   "outputs": [],
   "source": [
    "import math\n",
    "import qiskit\n",
    "import matplotlib\n",
    "from qiskit import IBMQ, BasicAer\n",
    "from qiskit import ClassicalRegister, QuantumRegister, QuantumCircuit\n",
    "from qiskit.providers.ibmq import least_busy\n",
    "\n",
    "\n",
    "## tomo spc ##\n",
    "# Needed for functions\n",
    "import numpy as np\n",
    "import time\n",
    "# Import Qiskit classes\n",
    "from qiskit import Aer\n",
    "from qiskit.quantum_info import state_fidelity\n",
    "from qiskit.providers.aer import noise\n",
    "# Tomography functions\n",
    "from qiskit.ignis.verification.tomography import state_tomography_circuits, StateTomographyFitter\n",
    "import qiskit.ignis.mitigation.measurement as mc\n",
    "from qiskit.tools.visualization import plot_histogram\n",
    "\n",
    "\n",
    "\n",
    "# backends :\n",
    "# ibmqx4\n",
    "# ibmqx2\n",
    "# ibmq_16_melbourne\n",
    "# ibmq_qasm_simulator\n"
   ]
  },
  {
   "cell_type": "code",
   "execution_count": 2,
   "metadata": {},
   "outputs": [],
   "source": [
    "qiskit.IBMQ.load_accounts()"
   ]
  },
  {
   "cell_type": "code",
   "execution_count": 16,
   "metadata": {},
   "outputs": [
    {
     "name": "stdout",
     "output_type": "stream",
     "text": [
      "         ┌───┐     \n",
      "q6_0: |0>┤ H ├──■──\n",
      "         └───┘┌─┴─┐\n",
      "q6_1: |0>─────┤ X ├\n",
      "              └───┘\n",
      "[0.70710678+0.j 0.        +0.j 0.        +0.j 0.70710678+0.j]\n"
     ]
    }
   ],
   "source": [
    "# Create the expected density matrix\n",
    "q2 = QuantumRegister(2)\n",
    "bell = QuantumCircuit(q2)\n",
    "bell.h(q2[0])\n",
    "bell.cx(q2[0], q2[1])\n",
    "print(bell)\n",
    "\n",
    "job = qiskit.execute(bell, Aer.get_backend('statevector_simulator'))\n",
    "psi_bell = job.result().get_statevector(bell)\n",
    "print(psi_bell)"
   ]
  },
  {
   "cell_type": "code",
   "execution_count": 31,
   "metadata": {},
   "outputs": [
    {
     "name": "stdout",
     "output_type": "stream",
     "text": [
      "          ┌─────────────────┐                                      ┌───┐»\n",
      "q12_0: |0>┤ U3(-0.7854,0,0) ├──────────────────────────────────────┤ X ├»\n",
      "          └──────┬───┬──────┘           ┌───┐                 ┌───┐└─┬─┘»\n",
      "q12_1: |0>───────┤ X ├─────────■────────┤ H ├──────────────■──┤ H ├──■──»\n",
      "          ┌──────┴───┴──────┐┌─┴─┐┌─────┴───┴──────┐┌───┐┌─┴─┐├───┤     »\n",
      "q12_2: |0>┤ U3(-0.7854,0,0) ├┤ X ├┤ U3(0.7854,0,0) ├┤ H ├┤ X ├┤ H ├──■──»\n",
      "          ├─────────────────┤└───┘└────────────────┘└───┘└───┘└───┘┌─┴─┐»\n",
      "q12_3: |0>┤ U3(-0.7854,0,0) ├──────────────────────────────────────┤ X ├»\n",
      "          └─────────────────┘                                      └───┘»\n",
      "«       ┌────────────────┐┌───┐┌───┐┌───┐\n",
      "«q12_0: ┤ U3(0.7854,0,0) ├┤ H ├┤ X ├┤ H ├\n",
      "«       └─────┬───┬──────┘└───┘└─┬─┘├───┤\n",
      "«q12_1: ──────┤ H ├──────────────■──┤ H ├\n",
      "«             ├───┤                 ├───┤\n",
      "«q12_2: ──────┤ H ├──────────────■──┤ H ├\n",
      "«       ┌─────┴───┴──────┐┌───┐┌─┴─┐├───┤\n",
      "«q12_3: ┤ U3(0.7854,0,0) ├┤ H ├┤ X ├┤ H ├\n",
      "«       └────────────────┘└───┘└───┘└───┘\n",
      "[ 0. +0.j -0.5+0.j  0.5+0.j  0. +0.j -0.5+0.j  0. +0.j  0. +0.j  0. +0.j\n",
      "  0.5+0.j  0. +0.j  0. +0.j  0. +0.j  0. +0.j  0. +0.j  0. +0.j  0. +0.j]\n"
     ]
    }
   ],
   "source": [
    "# Density matrix W4\n",
    "q4 = QuantumRegister(4)\n",
    "w4 = QuantumCircuit(q4)\n",
    "w4.x(q4[1])\n",
    "Balt(w4, q4, 2, 1, 0.5)\n",
    "Balt(w4, q4, 0, 1, 0.5)\n",
    "Balt(w4, q4, 3, 2, 0.5)\n",
    "print(w4)\n",
    "\n",
    "job = qiskit.execute(w4, Aer.get_backend('statevector_simulator'))\n",
    "psi_w4 = job.result().get_statevector(w4)\n",
    "print(psi_w4)"
   ]
  },
  {
   "cell_type": "code",
   "execution_count": 32,
   "metadata": {},
   "outputs": [
    {
     "name": "stdout",
     "output_type": "stream",
     "text": [
      "                    \n",
      "q13_0: |0>──────────\n",
      "                    \n",
      "q13_1: |0>──────────\n",
      "                    \n",
      "q13_2: |0>──────────\n",
      "          ┌───┐     \n",
      "q13_3: |0>┤ H ├──■──\n",
      "          └───┘  │  \n",
      "q13_4: |0>───────┼──\n",
      "               ┌─┴─┐\n",
      "q13_5: |0>─────┤ X ├\n",
      "               └───┘\n"
     ]
    }
   ],
   "source": [
    "# Create the actual circuit \n",
    "q2 = QuantumRegister(6)\n",
    "bell = QuantumCircuit(q2)\n",
    "bell.h(q2[3])\n",
    "bell.cx(q2[3], q2[5])\n",
    "print(bell)"
   ]
  },
  {
   "cell_type": "code",
   "execution_count": 33,
   "metadata": {},
   "outputs": [],
   "source": [
    "q14 = QuantumRegister(14)\n",
    "w4_real = QuantumCircuit(q14)\n",
    "w4_real.x(q14[5])\n",
    "\n",
    "Balt(w4_real, q14, 9, 5, 0.5)\n",
    "Balt(w4_real, q14, 6, 5, 0.5)\n",
    "Balt(w4_real, q14, 10, 9, 0.5)"
   ]
  },
  {
   "cell_type": "code",
   "execution_count": 34,
   "metadata": {},
   "outputs": [
    {
     "name": "stdout",
     "output_type": "stream",
     "text": [
      "noise model prepared for ibmq_16_melbourne\n"
     ]
    }
   ],
   "source": [
    "# Prepare device noise simulation (DNS)\n",
    "\n",
    "properties = melbourne.properties()\n",
    "coupling_map = melbourne.configuration().coupling_map\n",
    "gate_times = [\n",
    "    ('u1', None, 0), ('u2', None, 100), ('u3', None, 200),\n",
    "    ('cx', [1, 0], 678), ('cx', [1, 2], 547), ('cx', [2, 3], 721),\n",
    "    ('cx', [4, 3], 733), ('cx', [4, 10], 721), ('cx', [5, 4], 800),\n",
    "    ('cx', [5, 6], 800), ('cx', [5, 9], 895), ('cx', [6, 8], 895),\n",
    "    ('cx', [7, 8], 640), ('cx', [9, 8], 895), ('cx', [9, 10], 800),\n",
    "    ('cx', [11, 10], 721), ('cx', [11, 3], 634), ('cx', [12, 2], 773),\n",
    "    ('cx', [13, 1], 2286), ('cx', [13, 12], 1504), ('cx', [], 800)\n",
    "]\n",
    "\n",
    "# Construct the noise model from backend properties and custom gate times\n",
    "noise_model = noise.device.basic_device_noise_model(properties, gate_times=gate_times)\n",
    "\n",
    "# Get the basis gates for the noise model\n",
    "basis_gates = noise_model.basis_gates\n",
    "\n",
    "print(\"noise model prepared for\", melbourne)"
   ]
  },
  {
   "cell_type": "code",
   "execution_count": 35,
   "metadata": {},
   "outputs": [
    {
     "name": "stdout",
     "output_type": "stream",
     "text": [
      "Time taken: 0.14710664749145508\n"
     ]
    }
   ],
   "source": [
    "\n",
    "\n",
    "# Generate circuits and run on simulator\n",
    "t = time.time()\n",
    "# Generate the state tomography circuits. Only pass in the \n",
    "# registers we want to measure (in this case 3 and 5)\n",
    "qst_bell = state_tomography_circuits(bell, [q2[3],q2[5]])\n",
    "job = qiskit.execute(qst_bell, Aer.get_backend('qasm_simulator'), shots=5000)\n",
    "print('Time taken:', time.time() - t)\n",
    "\n",
    "# Generate the state tomography circuits using the default settings for \n",
    "# basis\n",
    "\n",
    "tomo_bell = StateTomographyFitter(job.result(), qst_bell)\n",
    "\n"
   ]
  },
  {
   "cell_type": "code",
   "execution_count": 36,
   "metadata": {},
   "outputs": [
    {
     "name": "stdout",
     "output_type": "stream",
     "text": [
      "Time :  1.5202326774597168\n"
     ]
    }
   ],
   "source": [
    "t = time.time()\n",
    "\n",
    "qst_w4 = state_tomography_circuits(w4_real, [q14[6], q14[5], q14[9], q14[10]])\n",
    "job = qiskit.execute(qst_w4, Aer.get_backend('qasm_simulator'), shots=5000)\n",
    "print('Time : ', time.time() - t)\n",
    "\n",
    "tomo_w4 = StateTomographyFitter(job.result(), qst_w4)"
   ]
  },
  {
   "cell_type": "code",
   "execution_count": 37,
   "metadata": {},
   "outputs": [
    {
     "name": "stdout",
     "output_type": "stream",
     "text": [
      "Fit Fidelity = 0.9967874060690004\n"
     ]
    }
   ],
   "source": [
    "# Perform the tomography fit\n",
    "# which outputs a density matrix\n",
    "rho_bell = tomo_bell.fit()\n",
    "F_bell = state_fidelity(psi_bell, rho_bell)\n",
    "print('Fit Fidelity =', F_bell)"
   ]
  },
  {
   "cell_type": "code",
   "execution_count": 38,
   "metadata": {},
   "outputs": [
    {
     "name": "stdout",
     "output_type": "stream",
     "text": [
      "Fit Fidelity = 0.9938314146451415\n"
     ]
    }
   ],
   "source": [
    "rho_w4 = tomo_w4.fit()\n",
    "F_w4 = state_fidelity(psi_w4, rho_w4)\n",
    "print('Fit Fidelity =', F_w4)"
   ]
  },
  {
   "cell_type": "code",
   "execution_count": null,
   "metadata": {},
   "outputs": [],
   "source": []
  },
  {
   "cell_type": "code",
   "execution_count": 25,
   "metadata": {},
   "outputs": [
    {
     "name": "stdout",
     "output_type": "stream",
     "text": [
      "least busy: ibmqx2\n"
     ]
    }
   ],
   "source": [
    "# get different backends\n",
    "simulator = qiskit.providers.ibmq.least_busy(qiskit.IBMQ.backends(simulator=True))\n",
    "least_busy = qiskit.providers.ibmq.least_busy(qiskit.IBMQ.backends(simulator=False))\n",
    "melbourne = IBMQ.get_backend('ibmq_16_melbourne')\n",
    "\n",
    "print(\"least busy:\",least_busy.name())"
   ]
  },
  {
   "cell_type": "code",
   "execution_count": 26,
   "metadata": {},
   "outputs": [],
   "source": [
    "# helpers\n",
    "\n",
    "# initialize circuit with n registers\n",
    "def init(n):\n",
    "    q = QuantumRegister(n)\n",
    "    c = ClassicalRegister(n)\n",
    "    qc = QuantumCircuit(q, c)\n",
    "    return q, c, qc\n",
    "\n",
    "# initialize circuit with n classical register and 14 quantum registers\n",
    "def init14(n):\n",
    "    q = QuantumRegister(14)\n",
    "    c = ClassicalRegister(n)\n",
    "    qc = QuantumCircuit(q, c)\n",
    "    return q, c, qc\n",
    "\n",
    "# controlled G(p) gate\n",
    "def CG(circuit, qregister, qbit: int, ctrlbit: int, p: float):\n",
    "    theta = p2theta(p)\n",
    "    circuit.u3(theta / 2, 0, 0, qregister[qbit])\n",
    "    circuit.cx(qregister[ctrlbit], qregister[qbit])\n",
    "    circuit.u3(-theta / 2, 0, 0, qregister[qbit])\n",
    "    circuit.cx(qregister[ctrlbit], qregister[qbit])\n",
    "    return\n",
    "\n",
    "# alternative design of controlled G(p)\n",
    "def CGalt(circuit, qregister, qbit: int, ctrlbit: int, p: float):\n",
    "    thetap = t2tp(p2theta(p))\n",
    "    circuit.u3(-thetap, 0, 0, qregister[qbit])\n",
    "    circuit.cx(qregister[ctrlbit], qregister[qbit])\n",
    "    circuit.u3(thetap, 0, 0, qregister[qbit])\n",
    "\n",
    "# B(p) block. Controlled G(p) followed by inverted CNOT\n",
    "def B(circuit, qregister, qbit: int, ctrlbit: int, p: float):\n",
    "    CG(circuit, qregister, qbit, ctrlbit, p)\n",
    "    circuit.h(qregister[qbit])\n",
    "    circuit.h(qregister[ctrlbit])\n",
    "    circuit.cx(qregister[ctrlbit], qregister[qbit])\n",
    "    circuit.h(qregister[qbit])\n",
    "    circuit.h(qregister[ctrlbit])\n",
    "\n",
    "# B(p) using alternative design of CG(p) gate\n",
    "def Balt(circuit, qregister, qbit: int, ctrlbit: int, p: float):\n",
    "    CGalt(circuit, qregister, qbit, ctrlbit, p)\n",
    "    circuit.h(qregister[qbit])\n",
    "    circuit.h(qregister[ctrlbit])\n",
    "    circuit.cx(qregister[ctrlbit], qregister[qbit])\n",
    "    circuit.h(qregister[qbit])\n",
    "    circuit.h(qregister[ctrlbit])\n",
    "\n",
    "# get theta angle from p for the U3 rotation inside CG(p)\n",
    "def p2theta(p: float):\n",
    "    return math.acos(math.sqrt(p)) * 2\n",
    "\n",
    "# get theta' angle from theta for the U3 rotation inside CGalt(p)\n",
    "def t2tp(theta:float):\n",
    "    return math.asin(math.cos(theta / 2))\n",
    "\n",
    "# run circuit on Melbourne device\n",
    "def run(circuit, shots: int =1024):\n",
    "    job = qiskit.execute(circuit , melbourne, shots=shots)\n",
    "    print( job.result().get_counts() )\n",
    "\n",
    "# run circuit on least busy device\n",
    "def runFast(circuit, shots: int =1024):\n",
    "    job = qiskit.execute(circuit , least_busy, shots=shots)\n",
    "    print( job.result().get_counts() )\n",
    "\n",
    "# run circuit on QASM simulator\n",
    "def simulate(circuit, shots: int =1024):\n",
    "    job = qiskit.execute(circuit , backend=simulator, shots=shots)\n",
    "    print( job.result().get_counts() )"
   ]
  },
  {
   "cell_type": "code",
   "execution_count": 48,
   "metadata": {},
   "outputs": [
    {
     "data": {
      "text/html": [
       "<pre style=\"word-wrap: normal;white-space: pre;line-height: 15px;\">                ┌───┐                                    ┌───┐     ┌───┐┌─┐   \n",
       "q19_0: |0>──────┤ X ├─────────■───────────────────────■──┤ H ├──■──┤ H ├┤M├───\n",
       "          ┌─────┴───┴──────┐┌─┴─┐┌─────────────────┐┌─┴─┐├───┤┌─┴─┐├───┤└╥┘┌─┐\n",
       "q19_1: |0>┤ U3(0.7854,0,0) ├┤ X ├┤ U3(-0.7854,0,0) ├┤ X ├┤ H ├┤ X ├┤ H ├─╫─┤M├\n",
       "          └────────────────┘└───┘└─────────────────┘└───┘└───┘└───┘└───┘ ║ └╥┘\n",
       " c10_0: 0 ═══════════════════════════════════════════════════════════════╩══╬═\n",
       "                                                                            ║ \n",
       " c10_1: 0 ══════════════════════════════════════════════════════════════════╩═\n",
       "                                                                              </pre>"
      ],
      "text/plain": [
       "<qiskit.visualization.text.TextDrawing at 0x22138cda668>"
      ]
     },
     "execution_count": 48,
     "metadata": {},
     "output_type": "execute_result"
    }
   ],
   "source": [
    "# naive W2 state\n",
    "theta = p2theta(0.5)\n",
    "\n",
    "q, c, qc = init(2)\n",
    "qc.x(q[0])\n",
    "\n",
    "B(qc, q, 1, 0, 0.5)\n",
    "\n",
    "qc.measure(q, c)\n",
    "qc.draw()"
   ]
  },
  {
   "cell_type": "code",
   "execution_count": 49,
   "metadata": {},
   "outputs": [
    {
     "name": "stdout",
     "output_type": "stream",
     "text": [
      "{'10': 513, '01': 511}\n",
      "{'11': 163, '00': 256, '10': 296, '01': 309}\n"
     ]
    }
   ],
   "source": [
    "simulate(qc)\n",
    "runFast(qc)"
   ]
  },
  {
   "cell_type": "code",
   "execution_count": 50,
   "metadata": {},
   "outputs": [
    {
     "data": {
      "text/html": [
       "<pre style=\"word-wrap: normal;white-space: pre;line-height: 15px;\">                ┌───┐                                    ┌───┐     ┌───┐┌─┐   \n",
       "q20_0: |0>──────┤ X ├─────────■───────────────────────■──┤ H ├──■──┤ H ├┤M├───\n",
       "          ┌─────┴───┴──────┐┌─┴─┐┌─────────────────┐┌─┴─┐├───┤┌─┴─┐├───┤└╥┘┌─┐\n",
       "q20_1: |0>┤ U3(0.7854,0,0) ├┤ X ├┤ U3(-0.7854,0,0) ├┤ X ├┤ H ├┤ X ├┤ H ├─╫─┤M├\n",
       "          └────────────────┘└───┘└─────────────────┘└───┘└───┘└───┘└───┘ ║ └╥┘\n",
       " c11_0: 0 ═══════════════════════════════════════════════════════════════╩══╬═\n",
       "                                                                            ║ \n",
       " c11_1: 0 ══════════════════════════════════════════════════════════════════╩═\n",
       "                                                                              </pre>"
      ],
      "text/plain": [
       "<qiskit.visualization.text.TextDrawing at 0x2213929bbe0>"
      ]
     },
     "execution_count": 50,
     "metadata": {},
     "output_type": "execute_result"
    }
   ],
   "source": [
    "# W2 state\n",
    "theta = p2theta(0.5)\n",
    "\n",
    "q, c, qc = init(2)\n",
    "qc.x(q[0])\n",
    "\n",
    "CG(qc, q, 1, 0, 0.5)\n",
    "qc.h(q)\n",
    "qc.cx(q[0], q[1])\n",
    "qc.h(q)\n",
    "\n",
    "qc.measure(q, c)\n",
    "qc.draw()"
   ]
  },
  {
   "cell_type": "code",
   "execution_count": 51,
   "metadata": {},
   "outputs": [
    {
     "name": "stdout",
     "output_type": "stream",
     "text": [
      "{'11': 226, '00': 930, '10': 3373, '01': 3663}\n"
     ]
    }
   ],
   "source": [
    "run(qc, shots = 8192)"
   ]
  },
  {
   "cell_type": "code",
   "execution_count": 22,
   "metadata": {},
   "outputs": [
    {
     "name": "stdout",
     "output_type": "stream",
     "text": [
      "         ┌───┐\n",
      "q5_0: |0>┤ X ├\n",
      "         └───┘\n",
      "q5_1: |0>─────\n",
      "              \n"
     ]
    },
    {
     "data": {
      "image/png": "[encoded data removed]",
      "text/plain": [
       "<Figure size 240.8x138.46 with 1 Axes>"
      ]
     },
     "execution_count": 22,
     "metadata": {},
     "output_type": "execute_result"
    }
   ],
   "source": [
    "qreg = QuantumRegister(2)\n",
    "w4 = QuantumCircuit(qreg)\n",
    "w4.x(qreg[0])\n",
    "tomo = state_tomography_circuits(w4, qreg)\n",
    "print(w4)\n",
    "w4.draw(output='mpl')"
   ]
  },
  {
   "cell_type": "code",
   "execution_count": 23,
   "metadata": {},
   "outputs": [
    {
     "data": {
      "image/png": "[encoded data removed]",
      "text/plain": [
       "<Figure size 602x258.86 with 1 Axes>"
      ]
     },
     "execution_count": 23,
     "metadata": {},
     "output_type": "execute_result"
    }
   ],
   "source": [
    "\n",
    "tomo[0].draw(output='mpl')"
   ]
  },
  {
   "cell_type": "code",
   "execution_count": 24,
   "metadata": {},
   "outputs": [
    {
     "data": {
      "image/png": "[encoded data removed]",
      "text/plain": [
       "<Figure size 662.2x258.86 with 1 Axes>"
      ]
     },
     "execution_count": 24,
     "metadata": {},
     "output_type": "execute_result"
    }
   ],
   "source": [
    "tomo[1].draw(output='mpl')"
   ]
  },
  {
   "cell_type": "code",
   "execution_count": 25,
   "metadata": {},
   "outputs": [
    {
     "data": {
      "image/png": "[encoded data removed]",
      "text/plain": [
       "<Figure size 541.8x258.86 with 1 Axes>"
      ]
     },
     "execution_count": 25,
     "metadata": {},
     "output_type": "execute_result"
    }
   ],
   "source": [
    "\n",
    "tomo[2].draw(output='mpl')"
   ]
  },
  {
   "cell_type": "code",
   "execution_count": 26,
   "metadata": {},
   "outputs": [
    {
     "name": "stdout",
     "output_type": "stream",
     "text": [
      "         ┌─┐   \n",
      "q5_0: |0>┤M├───\n",
      "         └╥┘┌─┐\n",
      "q5_1: |0>─╫─┤M├\n",
      "          ║ └╥┘\n",
      " c7_0: 0 ═╩══╬═\n",
      "             ║ \n",
      " c7_1: 0 ════╩═\n",
      "               \n",
      "         ┌───┐┌─┐\n",
      "q5_0: |0>┤ X ├┤M├\n",
      "         └┬─┬┘└╥┘\n",
      "q5_1: |0>─┤M├──╫─\n",
      "          └╥┘  ║ \n",
      " c7_0: 0 ══╬═══╩═\n",
      "           ║     \n",
      " c7_1: 0 ══╩═════\n",
      "                 \n",
      "         ┌─┐        \n",
      "q5_0: |0>┤M├────────\n",
      "         └╥┘┌───┐┌─┐\n",
      "q5_1: |0>─╫─┤ X ├┤M├\n",
      "          ║ └───┘└╥┘\n",
      " c7_0: 0 ═╩═══════╬═\n",
      "                  ║ \n",
      " c7_1: 0 ═════════╩═\n",
      "                    \n",
      "         ┌───┐┌─┐   \n",
      "q5_0: |0>┤ X ├┤M├───\n",
      "         ├───┤└╥┘┌─┐\n",
      "q5_1: |0>┤ X ├─╫─┤M├\n",
      "         └───┘ ║ └╥┘\n",
      " c7_0: 0 ══════╩══╬═\n",
      "                  ║ \n",
      " c7_1: 0 ═════════╩═\n",
      "                    \n"
     ]
    }
   ],
   "source": [
    "calib_circuit, state_labels = mc.complete_meas_cal(qr=qreg)\n",
    "for foo in calib_circuit:\n",
    "    print(foo)"
   ]
  },
  {
   "cell_type": "code",
   "execution_count": null,
   "metadata": {},
   "outputs": [],
   "source": []
  }
 ],
 "metadata": {
  "kernelspec": {
   "display_name": "Python 3",
   "language": "python",
   "name": "python3"
  },
  "language_info": {
   "codemirror_mode": {
    "name": "ipython",
    "version": 3
   },
   "file_extension": ".py",
   "mimetype": "text/x-python",
   "name": "python",
   "nbconvert_exporter": "python",
   "pygments_lexer": "ipython3",
   "version": "3.7.2"
  }
 },
 "nbformat": 4,
 "nbformat_minor": 2
}

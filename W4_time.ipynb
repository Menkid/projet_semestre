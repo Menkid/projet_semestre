{
 "cells": [
  {
   "cell_type": "code",
   "execution_count": 40,
   "metadata": {},
   "outputs": [],
   "source": [
    "import helpers\n",
    "from helpers import *"
   ]
  },
  {
   "cell_type": "code",
   "execution_count": 46,
   "metadata": {},
   "outputs": [
    {
     "data": {
      "text/html": [
       "<pre style=\"word-wrap: normal;white-space: pre;line-height: 15px;\">         ┌─────────────────┐                            ┌───┐┌────────────────┐»\n",
       "q3_0: |0>┤ U3(-0.7854,0,0) ├────────────────────────────┤ X ├┤ U3(0.7854,0,0) ├»\n",
       "         └──────┬───┬──────┘                       ┌───┐└─┬─┘└────────────────┘»\n",
       "q3_1: |0>───────┤ X ├─────────■────────────────────┤ X ├──■────────────────────»\n",
       "         ┌──────┴───┴──────┐┌─┴─┐┌────────────────┐└─┬─┘                       »\n",
       "q3_2: |0>┤ U3(-0.7854,0,0) ├┤ X ├┤ U3(0.7854,0,0) ├──■────■────────────────────»\n",
       "         ├─────────────────┤└───┘└────────────────┘     ┌─┴─┐┌────────────────┐»\n",
       "q3_3: |0>┤ U3(-0.7854,0,0) ├────────────────────────────┤ X ├┤ U3(0.7854,0,0) ├»\n",
       "         └─────────────────┘                            └───┘└────────────────┘»\n",
       "«           \n",
       "«q3_0: ──■──\n",
       "«      ┌─┴─┐\n",
       "«q3_1: ┤ X ├\n",
       "«      ├───┤\n",
       "«q3_2: ┤ X ├\n",
       "«      └─┬─┘\n",
       "«q3_3: ──■──\n",
       "«           </pre>"
      ],
      "text/plain": [
       "<qiskit.visualization.text.TextDrawing at 0x1b45cd8f2b0>"
      ]
     },
     "execution_count": 46,
     "metadata": {},
     "output_type": "execute_result"
    }
   ],
   "source": [
    "qreg = QuantumRegister(4)\n",
    "w4 = QuantumCircuit(qreg)\n",
    "w4.x(qreg[1])\n",
    "Bdirect(w4, qreg, 2, 1, 0.5)\n",
    "Bdirect(w4, qreg, 0, 1, 0.5)\n",
    "Bdirect(w4, qreg, 3, 2, 0.5)\n",
    "w4.draw()"
   ]
  },
  {
   "cell_type": "code",
   "execution_count": 47,
   "metadata": {},
   "outputs": [
    {
     "data": {
      "application/vnd.jupyter.widget-view+json": {
       "model_id": "d4dccd0a4a95425f80f1a44d47fa8f2f",
       "version_major": 2,
       "version_minor": 0
      },
      "text/plain": [
       "HTML(value=\"<p style='font-size:16px;'>Job Status: job is being initialized </p>\")"
      ]
     },
     "metadata": {},
     "output_type": "display_data"
    },
    {
     "name": "stdout",
     "output_type": "stream",
     "text": [
      "46.259060859680176\n"
     ]
    }
   ],
   "source": [
    "job = qiskit.execute(w4, melbourne, shots=5000)\n",
    "job_monitor(job, monitor_async=True)\n",
    "while job.status() in [JobStatus.INITIALIZING, JobStatus.VALIDATING, JobStatus.QUEUED]:\n",
    "    time.sleep(0.001)\n",
    "start = time.time()\n",
    "while job.status() == JobStatus.RUNNING:\n",
    "    time.sleep(0.001)\n",
    "end = time.time()\n",
    "print(end - start)"
   ]
  },
  {
   "cell_type": "code",
   "execution_count": null,
   "metadata": {},
   "outputs": [],
   "source": [
    "# ibmqx2 36.97, 38.31, 84.17, 83.88\n",
    "# melbourne 43.88, 46.26"
   ]
  },
  {
   "cell_type": "code",
   "execution_count": 43,
   "metadata": {},
   "outputs": [],
   "source": [
    "qreg_lin = QuantumRegister(4)\n",
    "w8_lin = QuantumCircuit(qreg_lin)\n",
    "w8_lin.x(qreg_lin[0])\n",
    "Bdirect(w8_lin, qreg_lin, 1, 0, 1/4)\n",
    "Bdirect(w8_lin, qreg_lin, 2, 1, 1/3)\n",
    "Bdirect(w8_lin, qreg_lin, 3, 2, 1/2)"
   ]
  },
  {
   "cell_type": "code",
   "execution_count": null,
   "metadata": {},
   "outputs": [],
   "source": [
    "job_lin = qiskit.execute(w8_lin, melbourne, shots=5000)\n",
    "job_monitor(job_lin, monitor_async=True)\n",
    "while job_lin.status() in [JobStatus.INITIALIZING, JobStatus.VALIDATING, JobStatus.QUEUED]:\n",
    "    time.sleep(0.001)\n",
    "start_lin = time.time()\n",
    "while job_lin.status() == JobStatus.RUNNING:\n",
    "    time.sleep(0.001)\n",
    "end_lin = time.time()\n",
    "print(end_lin - start_lin)"
   ]
  }
 ],
 "metadata": {
  "kernelspec": {
   "display_name": "Python [conda env:master_pds]",
   "language": "python",
   "name": "conda-env-master_pds-py"
  },
  "language_info": {
   "codemirror_mode": {
    "name": "ipython",
    "version": 3
   },
   "file_extension": ".py",
   "mimetype": "text/x-python",
   "name": "python",
   "nbconvert_exporter": "python",
   "pygments_lexer": "ipython3",
   "version": "3.7.2"
  }
 },
 "nbformat": 4,
 "nbformat_minor": 2
}

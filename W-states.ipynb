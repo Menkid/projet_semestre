{
 "cells": [
  {
   "cell_type": "code",
   "execution_count": 1,
   "metadata": {},
   "outputs": [],
   "source": [
    "import math\n",
    "import qiskit\n",
    "from qiskit import IBMQ, BasicAer\n",
    "from qiskit import ClassicalRegister, QuantumRegister, QuantumCircuit\n",
    "from qiskit.providers.ibmq import least_busy\n",
    "from qiskit.tools.visualization import plot_histogram\n",
    "\n",
    "qiskit.IBMQ.load_accounts()\n",
    "\n",
    "# backends :\n",
    "# ibmqx4\n",
    "# ibmqx2\n",
    "# ibmq_16_melbourne\n",
    "# ibmq_qasm_simulator\n"
   ]
  },
  {
   "cell_type": "code",
   "execution_count": 2,
   "metadata": {},
   "outputs": [
    {
     "name": "stdout",
     "output_type": "stream",
     "text": [
      "least busy: ibmqx4\n"
     ]
    }
   ],
   "source": [
    "# get different backends\n",
    "simulator = qiskit.providers.ibmq.least_busy(qiskit.IBMQ.backends(simulator=True))\n",
    "least_busy = qiskit.providers.ibmq.least_busy(qiskit.IBMQ.backends(simulator=False))\n",
    "melbourne = IBMQ.get_backend('ibmq_16_melbourne')\n",
    "\n",
    "print(\"least busy:\",least_busy.name())"
   ]
  },
  {
   "cell_type": "code",
   "execution_count": 3,
   "metadata": {},
   "outputs": [],
   "source": [
    "# helpers\n",
    "\n",
    "# initialize circuit with n registers\n",
    "def init(n):\n",
    "    q = QuantumRegister(n)\n",
    "    c = ClassicalRegister(n)\n",
    "    qc = QuantumCircuit(q, c)\n",
    "    return q, c, qc\n",
    "\n",
    "# initialize circuit with n classical register and 14 quantum registers\n",
    "def init14(n):\n",
    "    q = QuantumRegister(14)\n",
    "    c = ClassicalRegister(n)\n",
    "    qc = QuantumCircuit(q, c)\n",
    "    return q, c, qc\n",
    "\n",
    "# controlled G(p) gate\n",
    "def CG(circuit, qregister, qbit: int, ctrlbit: int, p: float):\n",
    "    theta = p2theta(p)\n",
    "    circuit.u3(theta / 2, 0, 0, qregister[qbit])\n",
    "    circuit.cx(qregister[ctrlbit], qregister[qbit])\n",
    "    circuit.u3(-theta / 2, 0, 0, qregister[qbit])\n",
    "    circuit.cx(qregister[ctrlbit], qregister[qbit])\n",
    "    return\n",
    "\n",
    "# alternative design of controlled G(p)\n",
    "def CGalt(circuit, qregister, qbit: int, ctrlbit: int, p: float):\n",
    "    thetap = t2tp(p2theta(p))\n",
    "    circuit.u3(-thetap, 0, 0, qregister[qbit])\n",
    "    circuit.cx(qregister[ctrlbit], qregister[qbit])\n",
    "    circuit.u3(thetap, 0, 0, qregister[qbit])\n",
    "\n",
    "# B(p) block. Controlled G(p) followed by inverted CNOT\n",
    "def B(circuit, qregister, qbit: int, ctrlbit: int, p: float):\n",
    "    CG(circuit, qregister, qbit, ctrlbit, p)\n",
    "    circuit.h(qregister[qbit])\n",
    "    circuit.h(qregister[ctrlbit])\n",
    "    circuit.cx(qregister[ctrlbit], qregister[qbit])\n",
    "    circuit.h(qregister[qbit])\n",
    "    circuit.h(qregister[ctrlbit])\n",
    "\n",
    "# B(p) using alternative design of CG(p) gate\n",
    "def Balt(circuit, qregister, qbit: int, ctrlbit: int, p: float):\n",
    "    CGalt(circuit, qregister, qbit, ctrlbit, p)\n",
    "    circuit.h(qregister[qbit])\n",
    "    circuit.h(qregister[ctrlbit])\n",
    "    circuit.cx(qregister[ctrlbit], qregister[qbit])\n",
    "    circuit.h(qregister[qbit])\n",
    "    circuit.h(qregister[ctrlbit])\n",
    "\n",
    "# get theta angle from p for the U3 rotation inside CG(p)\n",
    "def p2theta(p: float):\n",
    "    return math.acos(math.sqrt(p)) * 2\n",
    "\n",
    "# get theta' angle from theta for the U3 rotation inside CGalt(p)\n",
    "def t2tp(theta:float):\n",
    "    return math.asin(math.cos(theta / 2))\n",
    "\n",
    "# run circuit on Melbourne device\n",
    "def run(circuit, shots: int =1024):\n",
    "    job = qiskit.execute(circuit , melbourne, shots=shots)\n",
    "    return job.result().get_counts()\n",
    "\n",
    "# run circuit on least busy device\n",
    "def runFast(circuit, shots: int =1024):\n",
    "    job = qiskit.execute(circuit , least_busy, shots=shots)\n",
    "    print( job.result().get_counts() )\n",
    "\n",
    "# run circuit on QASM simulator\n",
    "def simulate(circuit, shots: int =1024):\n",
    "    job = qiskit.execute(circuit , backend=simulator, shots=shots)\n",
    "    return job.result().get_counts()"
   ]
  },
  {
   "cell_type": "code",
   "execution_count": 7,
   "metadata": {},
   "outputs": [
    {
     "data": {
      "text/html": [
       "<pre style=\"word-wrap: normal;white-space: pre;line-height: 15px;\">                                                                              \n",
       " q1_0: |0>────────────────────────────────────────────────────────────────────\n",
       "                                                                              \n",
       " q1_1: |0>────────────────────────────────────────────────────────────────────\n",
       "                                                                              \n",
       " q1_2: |0>────────────────────────────────────────────────────────────────────\n",
       "                                                                              \n",
       " q1_3: |0>────────────────────────────────────────────────────────────────────\n",
       "                                                                              \n",
       " q1_4: |0>────────────────────────────────────────────────────────────────────\n",
       "                                                                              \n",
       " q1_5: |0>────────────────────────────────────────────────────────────────────\n",
       "                                                                              \n",
       " q1_6: |0>────────────────────────────────────────────────────────────────────\n",
       "                                                                              \n",
       " q1_7: |0>────────────────────────────────────────────────────────────────────\n",
       "                                                                              \n",
       " q1_8: |0>────────────────────────────────────────────────────────────────────\n",
       "                ┌───┐                                    ┌───┐     ┌───┐┌─┐   \n",
       " q1_9: |0>──────┤ X ├─────────■───────────────────────■──┤ H ├──■──┤ H ├┤M├───\n",
       "          ┌─────┴───┴──────┐┌─┴─┐┌─────────────────┐┌─┴─┐├───┤┌─┴─┐├───┤└╥┘┌─┐\n",
       "q1_10: |0>┤ U3(0.7854,0,0) ├┤ X ├┤ U3(-0.7854,0,0) ├┤ X ├┤ H ├┤ X ├┤ H ├─╫─┤M├\n",
       "          └────────────────┘└───┘└─────────────────┘└───┘└───┘└───┘└───┘ ║ └╥┘\n",
       "q1_11: |0>───────────────────────────────────────────────────────────────╫──╫─\n",
       "                                                                         ║  ║ \n",
       "q1_12: |0>───────────────────────────────────────────────────────────────╫──╫─\n",
       "                                                                         ║  ║ \n",
       "q1_13: |0>───────────────────────────────────────────────────────────────╫──╫─\n",
       "                                                                         ║  ║ \n",
       "  c1_0: 0 ═══════════════════════════════════════════════════════════════╩══╬═\n",
       "                                                                            ║ \n",
       "  c1_1: 0 ══════════════════════════════════════════════════════════════════╩═\n",
       "                                                                              </pre>"
      ],
      "text/plain": [
       "<qiskit.visualization.text.TextDrawing at 0x254ef365e80>"
      ]
     },
     "execution_count": 7,
     "metadata": {},
     "output_type": "execute_result"
    }
   ],
   "source": [
    "# W2\n",
    "\n",
    "# 30% d'erreur en moins comparé au même circuit définit sur 2 qbits (donc placement automatique sur la machine)\n",
    "# mais |00> est déjà très présent (~8% des résultats)\n",
    "\n",
    "q, c, qc = init14(2)\n",
    "qc.x(q[9])\n",
    "\n",
    "CG(qc, q, 10, 9, 0.5)\n",
    "qc.h(q[9])\n",
    "qc.h(q[10])\n",
    "qc.cx(q[9], q[10])\n",
    "qc.h(q[9])\n",
    "qc.h(q[10])\n",
    "\n",
    "qc.measure(q[9], c[0])\n",
    "qc.measure(q[10], c[1])\n",
    "qc.draw()"
   ]
  },
  {
   "cell_type": "code",
   "execution_count": 8,
   "metadata": {},
   "outputs": [
    {
     "data": {
      "image/png": "[encoded data removed]",
      "text/plain": [
       "<Figure size 504x360 with 1 Axes>"
      ]
     },
     "execution_count": 8,
     "metadata": {},
     "output_type": "execute_result"
    }
   ],
   "source": [
    "plot_histogram(simulate(qc))"
   ]
  },
  {
   "cell_type": "code",
   "execution_count": 10,
   "metadata": {},
   "outputs": [
    {
     "name": "stderr",
     "output_type": "stream",
     "text": [
      "Got a 400 code response to /api/Jobs: {\"error\":{\"status\":400,\"message\":\"Generic error\",\"code\":\"GENERIC_ERROR\"}}\n",
      "Got a 400 code response to /api/Jobs: {\"error\":{\"status\":400,\"message\":\"Generic error\",\"code\":\"GENERIC_ERROR\"}}\n",
      "Got a 400 code response to /api/Jobs: {\"error\":{\"status\":400,\"message\":\"Generic error\",\"code\":\"GENERIC_ERROR\"}}\n",
      "Got a 400 code response to /api/Jobs: {\"error\":{\"status\":400,\"message\":\"Generic error\",\"code\":\"GENERIC_ERROR\"}}\n",
      "Got a 400 code response to /api/Jobs: {\"error\":{\"status\":400,\"message\":\"Generic error\",\"code\":\"GENERIC_ERROR\"}}\n"
     ]
    },
    {
     "ename": "JobError",
     "evalue": "\"{'status': 400, 'message': 'Generic error', 'code': 'GENERIC_ERROR'}\"",
     "output_type": "error",
     "traceback": [
      "\u001b[1;31m---------------------------------------------------------------------------\u001b[0m",
      "\u001b[1;31mJobError\u001b[0m                                  Traceback (most recent call last)",
      "\u001b[1;32m<ipython-input-10-3c19f8de51b4>\u001b[0m in \u001b[0;36m<module>\u001b[1;34m\u001b[0m\n\u001b[1;32m----> 1\u001b[1;33m \u001b[0mplot_histogram\u001b[0m\u001b[1;33m(\u001b[0m\u001b[0mrun\u001b[0m\u001b[1;33m(\u001b[0m\u001b[0mqc\u001b[0m\u001b[1;33m,\u001b[0m \u001b[0mshots\u001b[0m \u001b[1;33m=\u001b[0m \u001b[1;36m8192\u001b[0m\u001b[1;33m)\u001b[0m\u001b[1;33m)\u001b[0m\u001b[1;33m\u001b[0m\u001b[1;33m\u001b[0m\u001b[0m\n\u001b[0m",
      "\u001b[1;32m<ipython-input-3-d1bec97991f6>\u001b[0m in \u001b[0;36mrun\u001b[1;34m(circuit, shots)\u001b[0m\n\u001b[0;32m     60\u001b[0m \u001b[1;32mdef\u001b[0m \u001b[0mrun\u001b[0m\u001b[1;33m(\u001b[0m\u001b[0mcircuit\u001b[0m\u001b[1;33m,\u001b[0m \u001b[0mshots\u001b[0m\u001b[1;33m:\u001b[0m \u001b[0mint\u001b[0m \u001b[1;33m=\u001b[0m\u001b[1;36m1024\u001b[0m\u001b[1;33m)\u001b[0m\u001b[1;33m:\u001b[0m\u001b[1;33m\u001b[0m\u001b[1;33m\u001b[0m\u001b[0m\n\u001b[0;32m     61\u001b[0m     \u001b[0mjob\u001b[0m \u001b[1;33m=\u001b[0m \u001b[0mqiskit\u001b[0m\u001b[1;33m.\u001b[0m\u001b[0mexecute\u001b[0m\u001b[1;33m(\u001b[0m\u001b[0mcircuit\u001b[0m \u001b[1;33m,\u001b[0m \u001b[0mmelbourne\u001b[0m\u001b[1;33m,\u001b[0m \u001b[0mshots\u001b[0m\u001b[1;33m=\u001b[0m\u001b[0mshots\u001b[0m\u001b[1;33m)\u001b[0m\u001b[1;33m\u001b[0m\u001b[1;33m\u001b[0m\u001b[0m\n\u001b[1;32m---> 62\u001b[1;33m     \u001b[1;32mreturn\u001b[0m \u001b[0mjob\u001b[0m\u001b[1;33m.\u001b[0m\u001b[0mresult\u001b[0m\u001b[1;33m(\u001b[0m\u001b[1;33m)\u001b[0m\u001b[1;33m.\u001b[0m\u001b[0mget_counts\u001b[0m\u001b[1;33m(\u001b[0m\u001b[1;33m)\u001b[0m\u001b[1;33m\u001b[0m\u001b[1;33m\u001b[0m\u001b[0m\n\u001b[0m\u001b[0;32m     63\u001b[0m \u001b[1;33m\u001b[0m\u001b[0m\n\u001b[0;32m     64\u001b[0m \u001b[1;31m# run circuit on least busy device\u001b[0m\u001b[1;33m\u001b[0m\u001b[1;33m\u001b[0m\u001b[1;33m\u001b[0m\u001b[0m\n",
      "\u001b[1;32mD:\\Programmes\\Anaconda3\\envs\\master_pds\\lib\\site-packages\\qiskit\\providers\\ibmq\\ibmqjob.py\u001b[0m in \u001b[0;36mresult\u001b[1;34m(self, timeout, wait)\u001b[0m\n\u001b[0;32m    225\u001b[0m             \u001b[0mJobError\u001b[0m\u001b[1;33m:\u001b[0m \u001b[1;32mif\u001b[0m \u001b[0mattempted\u001b[0m \u001b[0mto\u001b[0m \u001b[0mrecover\u001b[0m \u001b[0ma\u001b[0m \u001b[0mresult\u001b[0m \u001b[0mon\u001b[0m \u001b[0ma\u001b[0m \u001b[0mfailed\u001b[0m \u001b[0mjob\u001b[0m\u001b[1;33m.\u001b[0m\u001b[1;33m\u001b[0m\u001b[1;33m\u001b[0m\u001b[0m\n\u001b[0;32m    226\u001b[0m         \"\"\"\n\u001b[1;32m--> 227\u001b[1;33m         \u001b[0mself\u001b[0m\u001b[1;33m.\u001b[0m\u001b[0m_wait_for_completion\u001b[0m\u001b[1;33m(\u001b[0m\u001b[0mtimeout\u001b[0m\u001b[1;33m=\u001b[0m\u001b[0mtimeout\u001b[0m\u001b[1;33m,\u001b[0m \u001b[0mwait\u001b[0m\u001b[1;33m=\u001b[0m\u001b[0mwait\u001b[0m\u001b[1;33m)\u001b[0m\u001b[1;33m\u001b[0m\u001b[1;33m\u001b[0m\u001b[0m\n\u001b[0m\u001b[0;32m    228\u001b[0m \u001b[1;33m\u001b[0m\u001b[0m\n\u001b[0;32m    229\u001b[0m         \u001b[0mstatus\u001b[0m \u001b[1;33m=\u001b[0m \u001b[0mself\u001b[0m\u001b[1;33m.\u001b[0m\u001b[0mstatus\u001b[0m\u001b[1;33m(\u001b[0m\u001b[1;33m)\u001b[0m\u001b[1;33m\u001b[0m\u001b[1;33m\u001b[0m\u001b[0m\n",
      "\u001b[1;32mD:\\Programmes\\Anaconda3\\envs\\master_pds\\lib\\site-packages\\qiskit\\providers\\ibmq\\ibmqjob.py\u001b[0m in \u001b[0;36m_wait_for_completion\u001b[1;34m(self, timeout, wait)\u001b[0m\n\u001b[0;32m    470\u001b[0m                 \u001b[0mspecified\u001b[0m \u001b[0mtimeout\u001b[0m\u001b[1;33m.\u001b[0m\u001b[1;33m\u001b[0m\u001b[1;33m\u001b[0m\u001b[0m\n\u001b[0;32m    471\u001b[0m         \"\"\"\n\u001b[1;32m--> 472\u001b[1;33m         \u001b[0mself\u001b[0m\u001b[1;33m.\u001b[0m\u001b[0m_wait_for_submission\u001b[0m\u001b[1;33m(\u001b[0m\u001b[0mtimeout\u001b[0m\u001b[1;33m)\u001b[0m\u001b[1;33m\u001b[0m\u001b[1;33m\u001b[0m\u001b[0m\n\u001b[0m\u001b[0;32m    473\u001b[0m \u001b[1;33m\u001b[0m\u001b[0m\n\u001b[0;32m    474\u001b[0m         \u001b[1;31m# TODO: reenable during #61.\u001b[0m\u001b[1;33m\u001b[0m\u001b[1;33m\u001b[0m\u001b[1;33m\u001b[0m\u001b[0m\n",
      "\u001b[1;32mD:\\Programmes\\Anaconda3\\envs\\master_pds\\lib\\site-packages\\qiskit\\providers\\ibmq\\ibmqjob.py\u001b[0m in \u001b[0;36m_wait_for_submission\u001b[1;34m(self, timeout)\u001b[0m\n\u001b[0;32m    496\u001b[0m                 \u001b[0mself\u001b[0m\u001b[1;33m.\u001b[0m\u001b[0m_status\u001b[0m \u001b[1;33m=\u001b[0m \u001b[0mJobStatus\u001b[0m\u001b[1;33m.\u001b[0m\u001b[0mERROR\u001b[0m\u001b[1;33m\u001b[0m\u001b[1;33m\u001b[0m\u001b[0m\n\u001b[0;32m    497\u001b[0m                 \u001b[0mself\u001b[0m\u001b[1;33m.\u001b[0m\u001b[0m_api_error_msg\u001b[0m \u001b[1;33m=\u001b[0m \u001b[0mstr\u001b[0m\u001b[1;33m(\u001b[0m\u001b[0msubmit_info\u001b[0m\u001b[1;33m[\u001b[0m\u001b[1;34m'error'\u001b[0m\u001b[1;33m]\u001b[0m\u001b[1;33m)\u001b[0m\u001b[1;33m\u001b[0m\u001b[1;33m\u001b[0m\u001b[0m\n\u001b[1;32m--> 498\u001b[1;33m                 \u001b[1;32mraise\u001b[0m \u001b[0mJobError\u001b[0m\u001b[1;33m(\u001b[0m\u001b[0mstr\u001b[0m\u001b[1;33m(\u001b[0m\u001b[0msubmit_info\u001b[0m\u001b[1;33m[\u001b[0m\u001b[1;34m'error'\u001b[0m\u001b[1;33m]\u001b[0m\u001b[1;33m)\u001b[0m\u001b[1;33m)\u001b[0m\u001b[1;33m\u001b[0m\u001b[1;33m\u001b[0m\u001b[0m\n\u001b[0m\u001b[0;32m    499\u001b[0m \u001b[1;33m\u001b[0m\u001b[0m\n\u001b[0;32m    500\u001b[0m     \u001b[1;32mdef\u001b[0m \u001b[0m_wait_for_final_status\u001b[0m\u001b[1;33m(\u001b[0m\u001b[0mself\u001b[0m\u001b[1;33m,\u001b[0m \u001b[0mtimeout\u001b[0m\u001b[1;33m=\u001b[0m\u001b[1;32mNone\u001b[0m\u001b[1;33m,\u001b[0m \u001b[0mwait\u001b[0m\u001b[1;33m=\u001b[0m\u001b[1;36m5\u001b[0m\u001b[1;33m)\u001b[0m\u001b[1;33m:\u001b[0m\u001b[1;33m\u001b[0m\u001b[1;33m\u001b[0m\u001b[0m\n",
      "\u001b[1;31mJobError\u001b[0m: \"{'status': 400, 'message': 'Generic error', 'code': 'GENERIC_ERROR'}\""
     ]
    }
   ],
   "source": [
    "plot_histogram(run(qc, shots = 8192))"
   ]
  },
  {
   "cell_type": "code",
   "execution_count": 11,
   "metadata": {},
   "outputs": [
    {
     "data": {
      "text/html": [
       "<pre style=\"word-wrap: normal;white-space: pre;line-height: 15px;\">                                                                          »\n",
       " q2_0: |0>────────────────────────────────────────────────────────────────»\n",
       "                                                                          »\n",
       " q2_1: |0>────────────────────────────────────────────────────────────────»\n",
       "          ┌──────────────────┐┌───┐┌─────────────────┐┌───┐┌───┐┌───┐     »\n",
       " q2_2: |0>┤ U3(-0.61548,0,0) ├┤ X ├┤ U3(0.61548,0,0) ├┤ H ├┤ X ├┤ H ├──■──»\n",
       "          ├─────────────────┬┘└─┬─┘└─────────────────┘└───┘└─┬─┘└───┘┌─┴─┐»\n",
       " q2_3: |0>┤ U3(-0.7854,0,0) ├───┼────────────────────────────┼───────┤ X ├»\n",
       "          └─────────────────┘   │                            │       └───┘»\n",
       " q2_4: |0>──────────────────────┼────────────────────────────┼────────────»\n",
       "                                │                            │            »\n",
       " q2_5: |0>──────────────────────┼────────────────────────────┼────────────»\n",
       "                                │                            │            »\n",
       " q2_6: |0>──────────────────────┼────────────────────────────┼────────────»\n",
       "                                │                            │            »\n",
       " q2_7: |0>──────────────────────┼────────────────────────────┼────────────»\n",
       "                                │                            │            »\n",
       " q2_8: |0>──────────────────────┼────────────────────────────┼────────────»\n",
       "                                │                            │            »\n",
       " q2_9: |0>──────────────────────┼────────────────────────────┼────────────»\n",
       "                                │                            │            »\n",
       "q2_10: |0>──────────────────────┼────────────────────────────┼────────────»\n",
       "                                │                            │            »\n",
       "q2_11: |0>──────────────────────┼────────────────────────────┼────────────»\n",
       "                 ┌───┐          │         ┌───┐              │  ┌───┐     »\n",
       "q2_12: |0>───────┤ X ├──────────■─────────┤ H ├──────────────■──┤ H ├─────»\n",
       "                 └───┘                    └───┘                 └───┘     »\n",
       "q2_13: |0>────────────────────────────────────────────────────────────────»\n",
       "                                                                          »\n",
       "  c2_0: 0 ════════════════════════════════════════════════════════════════»\n",
       "                                                                          »\n",
       "  c2_1: 0 ════════════════════════════════════════════════════════════════»\n",
       "                                                                          »\n",
       "  c2_2: 0 ════════════════════════════════════════════════════════════════»\n",
       "                                                                          »\n",
       "«                                         ░          \n",
       "« q2_0: ──────────────────────────────────░──────────\n",
       "«                                         ░          \n",
       "« q2_1: ──────────────────────────────────░──────────\n",
       "«             ┌───┐                 ┌───┐ ░       ┌─┐\n",
       "« q2_2: ──────┤ H ├──────────────■──┤ H ├─░───────┤M├\n",
       "«       ┌─────┴───┴──────┐┌───┐┌─┴─┐├───┤ ░    ┌─┐└╥┘\n",
       "« q2_3: ┤ U3(0.7854,0,0) ├┤ H ├┤ X ├┤ H ├─░────┤M├─╫─\n",
       "«       └────────────────┘└───┘└───┘└───┘ ░    └╥┘ ║ \n",
       "« q2_4: ──────────────────────────────────░─────╫──╫─\n",
       "«                                         ░     ║  ║ \n",
       "« q2_5: ──────────────────────────────────░─────╫──╫─\n",
       "«                                         ░     ║  ║ \n",
       "« q2_6: ──────────────────────────────────░─────╫──╫─\n",
       "«                                         ░     ║  ║ \n",
       "« q2_7: ──────────────────────────────────░─────╫──╫─\n",
       "«                                         ░     ║  ║ \n",
       "« q2_8: ──────────────────────────────────░─────╫──╫─\n",
       "«                                         ░     ║  ║ \n",
       "« q2_9: ──────────────────────────────────░─────╫──╫─\n",
       "«                                         ░     ║  ║ \n",
       "«q2_10: ──────────────────────────────────░─────╫──╫─\n",
       "«                                         ░     ║  ║ \n",
       "«q2_11: ──────────────────────────────────░─────╫──╫─\n",
       "«                                         ░ ┌─┐ ║  ║ \n",
       "«q2_12: ──────────────────────────────────░─┤M├─╫──╫─\n",
       "«                                         ░ └╥┘ ║  ║ \n",
       "«q2_13: ──────────────────────────────────░──╫──╫──╫─\n",
       "«                                         ░  ║  ║  ║ \n",
       "« c2_0: ═════════════════════════════════════╩══╬══╬═\n",
       "«                                               ║  ║ \n",
       "« c2_1: ════════════════════════════════════════╩══╬═\n",
       "«                                                  ║ \n",
       "« c2_2: ═══════════════════════════════════════════╩═\n",
       "«                                                    </pre>"
      ],
      "text/plain": [
       "<qiskit.visualization.text.TextDrawing at 0x254ef29d358>"
      ]
     },
     "execution_count": 11,
     "metadata": {},
     "output_type": "execute_result"
    }
   ],
   "source": [
    "# W3\n",
    "\n",
    "q, c, qc = init14(3)\n",
    "\n",
    "qc.x(q[12])\n",
    "Balt(qc, q, 2, 12, 1/3)\n",
    "Balt(qc, q, 3, 2, 0.5)\n",
    "\n",
    "qc.barrier()\n",
    "\n",
    "qc.measure(q[12], c[0])\n",
    "qc.measure(q[3], c[1])\n",
    "qc.measure(q[2], c[2])\n",
    "qc.draw()"
   ]
  },
  {
   "cell_type": "code",
   "execution_count": 12,
   "metadata": {},
   "outputs": [
    {
     "data": {
      "image/png": "[encoded data removed]",
      "text/plain": [
       "<Figure size 504x360 with 1 Axes>"
      ]
     },
     "execution_count": 12,
     "metadata": {},
     "output_type": "execute_result"
    }
   ],
   "source": [
    "plot_histogram(simulate(qc))"
   ]
  },
  {
   "cell_type": "code",
   "execution_count": 13,
   "metadata": {},
   "outputs": [
    {
     "name": "stderr",
     "output_type": "stream",
     "text": [
      "Got a 400 code response to /api/Jobs: {\"error\":{\"status\":400,\"message\":\"Generic error\",\"code\":\"GENERIC_ERROR\"}}\n",
      "Got a 400 code response to /api/Jobs: {\"error\":{\"status\":400,\"message\":\"Generic error\",\"code\":\"GENERIC_ERROR\"}}\n",
      "Got a 400 code response to /api/Jobs: {\"error\":{\"status\":400,\"message\":\"Generic error\",\"code\":\"GENERIC_ERROR\"}}\n",
      "Got a 400 code response to /api/Jobs: {\"error\":{\"status\":400,\"message\":\"Generic error\",\"code\":\"GENERIC_ERROR\"}}\n",
      "Got a 400 code response to /api/Jobs: {\"error\":{\"status\":400,\"message\":\"Generic error\",\"code\":\"GENERIC_ERROR\"}}\n"
     ]
    },
    {
     "ename": "JobError",
     "evalue": "\"{'status': 400, 'message': 'Generic error', 'code': 'GENERIC_ERROR'}\"",
     "output_type": "error",
     "traceback": [
      "\u001b[1;31m---------------------------------------------------------------------------\u001b[0m",
      "\u001b[1;31mJobError\u001b[0m                                  Traceback (most recent call last)",
      "\u001b[1;32m<ipython-input-13-3971ac1fb2ea>\u001b[0m in \u001b[0;36m<module>\u001b[1;34m\u001b[0m\n\u001b[1;32m----> 1\u001b[1;33m \u001b[0mplot_histogram\u001b[0m\u001b[1;33m(\u001b[0m\u001b[0mrun\u001b[0m\u001b[1;33m(\u001b[0m\u001b[0mqc\u001b[0m\u001b[1;33m)\u001b[0m\u001b[1;33m)\u001b[0m\u001b[1;33m\u001b[0m\u001b[1;33m\u001b[0m\u001b[0m\n\u001b[0m",
      "\u001b[1;32m<ipython-input-3-d1bec97991f6>\u001b[0m in \u001b[0;36mrun\u001b[1;34m(circuit, shots)\u001b[0m\n\u001b[0;32m     60\u001b[0m \u001b[1;32mdef\u001b[0m \u001b[0mrun\u001b[0m\u001b[1;33m(\u001b[0m\u001b[0mcircuit\u001b[0m\u001b[1;33m,\u001b[0m \u001b[0mshots\u001b[0m\u001b[1;33m:\u001b[0m \u001b[0mint\u001b[0m \u001b[1;33m=\u001b[0m\u001b[1;36m1024\u001b[0m\u001b[1;33m)\u001b[0m\u001b[1;33m:\u001b[0m\u001b[1;33m\u001b[0m\u001b[1;33m\u001b[0m\u001b[0m\n\u001b[0;32m     61\u001b[0m     \u001b[0mjob\u001b[0m \u001b[1;33m=\u001b[0m \u001b[0mqiskit\u001b[0m\u001b[1;33m.\u001b[0m\u001b[0mexecute\u001b[0m\u001b[1;33m(\u001b[0m\u001b[0mcircuit\u001b[0m \u001b[1;33m,\u001b[0m \u001b[0mmelbourne\u001b[0m\u001b[1;33m,\u001b[0m \u001b[0mshots\u001b[0m\u001b[1;33m=\u001b[0m\u001b[0mshots\u001b[0m\u001b[1;33m)\u001b[0m\u001b[1;33m\u001b[0m\u001b[1;33m\u001b[0m\u001b[0m\n\u001b[1;32m---> 62\u001b[1;33m     \u001b[1;32mreturn\u001b[0m \u001b[0mjob\u001b[0m\u001b[1;33m.\u001b[0m\u001b[0mresult\u001b[0m\u001b[1;33m(\u001b[0m\u001b[1;33m)\u001b[0m\u001b[1;33m.\u001b[0m\u001b[0mget_counts\u001b[0m\u001b[1;33m(\u001b[0m\u001b[1;33m)\u001b[0m\u001b[1;33m\u001b[0m\u001b[1;33m\u001b[0m\u001b[0m\n\u001b[0m\u001b[0;32m     63\u001b[0m \u001b[1;33m\u001b[0m\u001b[0m\n\u001b[0;32m     64\u001b[0m \u001b[1;31m# run circuit on least busy device\u001b[0m\u001b[1;33m\u001b[0m\u001b[1;33m\u001b[0m\u001b[1;33m\u001b[0m\u001b[0m\n",
      "\u001b[1;32mD:\\Programmes\\Anaconda3\\envs\\master_pds\\lib\\site-packages\\qiskit\\providers\\ibmq\\ibmqjob.py\u001b[0m in \u001b[0;36mresult\u001b[1;34m(self, timeout, wait)\u001b[0m\n\u001b[0;32m    225\u001b[0m             \u001b[0mJobError\u001b[0m\u001b[1;33m:\u001b[0m \u001b[1;32mif\u001b[0m \u001b[0mattempted\u001b[0m \u001b[0mto\u001b[0m \u001b[0mrecover\u001b[0m \u001b[0ma\u001b[0m \u001b[0mresult\u001b[0m \u001b[0mon\u001b[0m \u001b[0ma\u001b[0m \u001b[0mfailed\u001b[0m \u001b[0mjob\u001b[0m\u001b[1;33m.\u001b[0m\u001b[1;33m\u001b[0m\u001b[1;33m\u001b[0m\u001b[0m\n\u001b[0;32m    226\u001b[0m         \"\"\"\n\u001b[1;32m--> 227\u001b[1;33m         \u001b[0mself\u001b[0m\u001b[1;33m.\u001b[0m\u001b[0m_wait_for_completion\u001b[0m\u001b[1;33m(\u001b[0m\u001b[0mtimeout\u001b[0m\u001b[1;33m=\u001b[0m\u001b[0mtimeout\u001b[0m\u001b[1;33m,\u001b[0m \u001b[0mwait\u001b[0m\u001b[1;33m=\u001b[0m\u001b[0mwait\u001b[0m\u001b[1;33m)\u001b[0m\u001b[1;33m\u001b[0m\u001b[1;33m\u001b[0m\u001b[0m\n\u001b[0m\u001b[0;32m    228\u001b[0m \u001b[1;33m\u001b[0m\u001b[0m\n\u001b[0;32m    229\u001b[0m         \u001b[0mstatus\u001b[0m \u001b[1;33m=\u001b[0m \u001b[0mself\u001b[0m\u001b[1;33m.\u001b[0m\u001b[0mstatus\u001b[0m\u001b[1;33m(\u001b[0m\u001b[1;33m)\u001b[0m\u001b[1;33m\u001b[0m\u001b[1;33m\u001b[0m\u001b[0m\n",
      "\u001b[1;32mD:\\Programmes\\Anaconda3\\envs\\master_pds\\lib\\site-packages\\qiskit\\providers\\ibmq\\ibmqjob.py\u001b[0m in \u001b[0;36m_wait_for_completion\u001b[1;34m(self, timeout, wait)\u001b[0m\n\u001b[0;32m    470\u001b[0m                 \u001b[0mspecified\u001b[0m \u001b[0mtimeout\u001b[0m\u001b[1;33m.\u001b[0m\u001b[1;33m\u001b[0m\u001b[1;33m\u001b[0m\u001b[0m\n\u001b[0;32m    471\u001b[0m         \"\"\"\n\u001b[1;32m--> 472\u001b[1;33m         \u001b[0mself\u001b[0m\u001b[1;33m.\u001b[0m\u001b[0m_wait_for_submission\u001b[0m\u001b[1;33m(\u001b[0m\u001b[0mtimeout\u001b[0m\u001b[1;33m)\u001b[0m\u001b[1;33m\u001b[0m\u001b[1;33m\u001b[0m\u001b[0m\n\u001b[0m\u001b[0;32m    473\u001b[0m \u001b[1;33m\u001b[0m\u001b[0m\n\u001b[0;32m    474\u001b[0m         \u001b[1;31m# TODO: reenable during #61.\u001b[0m\u001b[1;33m\u001b[0m\u001b[1;33m\u001b[0m\u001b[1;33m\u001b[0m\u001b[0m\n",
      "\u001b[1;32mD:\\Programmes\\Anaconda3\\envs\\master_pds\\lib\\site-packages\\qiskit\\providers\\ibmq\\ibmqjob.py\u001b[0m in \u001b[0;36m_wait_for_submission\u001b[1;34m(self, timeout)\u001b[0m\n\u001b[0;32m    496\u001b[0m                 \u001b[0mself\u001b[0m\u001b[1;33m.\u001b[0m\u001b[0m_status\u001b[0m \u001b[1;33m=\u001b[0m \u001b[0mJobStatus\u001b[0m\u001b[1;33m.\u001b[0m\u001b[0mERROR\u001b[0m\u001b[1;33m\u001b[0m\u001b[1;33m\u001b[0m\u001b[0m\n\u001b[0;32m    497\u001b[0m                 \u001b[0mself\u001b[0m\u001b[1;33m.\u001b[0m\u001b[0m_api_error_msg\u001b[0m \u001b[1;33m=\u001b[0m \u001b[0mstr\u001b[0m\u001b[1;33m(\u001b[0m\u001b[0msubmit_info\u001b[0m\u001b[1;33m[\u001b[0m\u001b[1;34m'error'\u001b[0m\u001b[1;33m]\u001b[0m\u001b[1;33m)\u001b[0m\u001b[1;33m\u001b[0m\u001b[1;33m\u001b[0m\u001b[0m\n\u001b[1;32m--> 498\u001b[1;33m                 \u001b[1;32mraise\u001b[0m \u001b[0mJobError\u001b[0m\u001b[1;33m(\u001b[0m\u001b[0mstr\u001b[0m\u001b[1;33m(\u001b[0m\u001b[0msubmit_info\u001b[0m\u001b[1;33m[\u001b[0m\u001b[1;34m'error'\u001b[0m\u001b[1;33m]\u001b[0m\u001b[1;33m)\u001b[0m\u001b[1;33m)\u001b[0m\u001b[1;33m\u001b[0m\u001b[1;33m\u001b[0m\u001b[0m\n\u001b[0m\u001b[0;32m    499\u001b[0m \u001b[1;33m\u001b[0m\u001b[0m\n\u001b[0;32m    500\u001b[0m     \u001b[1;32mdef\u001b[0m \u001b[0m_wait_for_final_status\u001b[0m\u001b[1;33m(\u001b[0m\u001b[0mself\u001b[0m\u001b[1;33m,\u001b[0m \u001b[0mtimeout\u001b[0m\u001b[1;33m=\u001b[0m\u001b[1;32mNone\u001b[0m\u001b[1;33m,\u001b[0m \u001b[0mwait\u001b[0m\u001b[1;33m=\u001b[0m\u001b[1;36m5\u001b[0m\u001b[1;33m)\u001b[0m\u001b[1;33m:\u001b[0m\u001b[1;33m\u001b[0m\u001b[1;33m\u001b[0m\u001b[0m\n",
      "\u001b[1;31mJobError\u001b[0m: \"{'status': 400, 'message': 'Generic error', 'code': 'GENERIC_ERROR'}\""
     ]
    }
   ],
   "source": [
    "plot_histogram(run(qc))"
   ]
  },
  {
   "cell_type": "code",
   "execution_count": null,
   "metadata": {},
   "outputs": [],
   "source": [
    "# W4\n",
    "\n",
    "q, c, qc = init14(4)\n",
    "qc.x(q[5])\n",
    "\n",
    "Balt(qc, q, 9, 5, 0.5)\n",
    "Balt(qc, q, 6, 5, 0.5)\n",
    "Balt(qc, q, 10, 9, 0.5)\n",
    "\n",
    "qc.barrier()\n",
    "\n",
    "qc.measure(q[5], c[0])\n",
    "qc.measure(q[6], c[1])\n",
    "qc.measure(q[9], c[2])\n",
    "qc.measure(q[10], c[3])\n",
    "\n",
    "qc.draw()"
   ]
  },
  {
   "cell_type": "code",
   "execution_count": null,
   "metadata": {},
   "outputs": [],
   "source": [
    "plot_histogram(simulate(qc))"
   ]
  },
  {
   "cell_type": "code",
   "execution_count": null,
   "metadata": {},
   "outputs": [],
   "source": [
    "plot_histogram(run(qc))"
   ]
  },
  {
   "cell_type": "code",
   "execution_count": null,
   "metadata": {},
   "outputs": [],
   "source": [
    "# W6\n",
    "\n",
    "q, c, qc = init14(6)\n",
    "qc.x(q[5])\n",
    "\n",
    "Balt(qc, q, 9, 5, 0.5)\n",
    "Balt(qc, q, 4, 5, 2/3)\n",
    "Balt(qc, q, 10, 9, 2/3)\n",
    "Balt(qc, q, 6, 5, 0.5)\n",
    "Balt(qc, q, 8, 9, 0.5)\n",
    "\n",
    "qc.measure(q[5], c[0])\n",
    "qc.measure(q[6], c[1])\n",
    "qc.measure(q[9], c[2])\n",
    "qc.measure(q[10], c[3])\n",
    "qc.measure(q[4], c[4])\n",
    "qc.measure(q[8], c[5])\n",
    "\n",
    "simulate(qc, shots = 8192)"
   ]
  },
  {
   "cell_type": "code",
   "execution_count": null,
   "metadata": {},
   "outputs": [],
   "source": [
    "plot_histogram(run(qc, shots = 8192), figsize=(30,12))"
   ]
  },
  {
   "cell_type": "code",
   "execution_count": null,
   "metadata": {},
   "outputs": [],
   "source": [
    "# naive W14\n",
    "\n",
    "q, c, qc = init(14)\n",
    "qc.x(q[0])\n",
    "\n",
    "B(qc, q, 7, 0, 0.5)\n",
    "B(qc, q, 4, 0, 4/7)\n",
    "B(qc, q, 2, 0, 0.5)\n",
    "B(qc, q, 1, 0, 0.5)\n",
    "B(qc, q, 3, 2, 0.5)\n",
    "B(qc, q, 5, 4, 1/3)\n",
    "B(qc, q, 6, 5, 0.5)\n",
    "B(qc, q, 11, 7, 4/7)\n",
    "B(qc, q, 9, 7, 0.5)\n",
    "B(qc, q, 8, 7, 0.5)\n",
    "B(qc, q, 10, 9, 0.5)\n",
    "B(qc, q, 12, 11, 1/3)\n",
    "B(qc, q, 13, 12, 0.5)\n",
    "\n",
    "\n",
    "qc.measure(q, c)"
   ]
  },
  {
   "cell_type": "code",
   "execution_count": null,
   "metadata": {},
   "outputs": [],
   "source": [
    "plot_histogram(simulate(qc))"
   ]
  },
  {
   "cell_type": "code",
   "execution_count": null,
   "metadata": {},
   "outputs": [],
   "source": []
  }
 ],
 "metadata": {
  "kernelspec": {
   "display_name": "Python [conda env:master_pds]",
   "language": "python",
   "name": "conda-env-master_pds-py"
  },
  "language_info": {
   "codemirror_mode": {
    "name": "ipython",
    "version": 3
   },
   "file_extension": ".py",
   "mimetype": "text/x-python",
   "name": "python",
   "nbconvert_exporter": "python",
   "pygments_lexer": "ipython3",
   "version": "3.7.2"
  }
 },
 "nbformat": 4,
 "nbformat_minor": 2
}

{
 "cells": [
  {
   "cell_type": "code",
   "execution_count": 10,
   "metadata": {},
   "outputs": [
    {
     "name": "stdout",
     "output_type": "stream",
     "text": [
      "ibmqx2\n"
     ]
    }
   ],
   "source": [
    "import helpers\n",
    "from helpers import *\n",
    "print(least_busy)"
   ]
  },
  {
   "cell_type": "code",
   "execution_count": 33,
   "metadata": {},
   "outputs": [],
   "source": [
    "gate_times_melbourne = [\n",
    "        ('u1', None, 0), ('u2', None, 100), ('u3', None, 200),\n",
    "        ('cx', [1, 0], 678), ('cx', [1, 2], 547), ('cx', [2, 3], 721),\n",
    "        ('cx', [4, 3], 733), ('cx', [4, 10], 721), ('cx', [5, 4], 800),\n",
    "        ('cx', [5, 6], 800), ('cx', [5, 9], 895), ('cx', [6, 8], 895),\n",
    "        ('cx', [7, 8], 640), ('cx', [9, 8], 895), ('cx', [9, 10], 800),\n",
    "        ('cx', [11, 10], 721), ('cx', [11, 3], 634), ('cx', [12, 2], 773),\n",
    "        ('cx', [13, 1], 2286), ('cx', [13, 12], 1504), ('cx', [], 800)\n",
    "    ]\n",
    "\n",
    "noise_model_melbourne = noise.device.basic_device_noise_model(melbourne.properties(), gate_times=gate_times_melbourne)\n",
    "basis_gates_melbourne = noise_model_melbourne.basis_gates\n",
    "coupling_map_melbourne = melbourne.configuration().coupling_map"
   ]
  },
  {
   "cell_type": "markdown",
   "metadata": {},
   "source": [
    "### W8 O(log n)"
   ]
  },
  {
   "cell_type": "code",
   "execution_count": 34,
   "metadata": {},
   "outputs": [
    {
     "name": "stdout",
     "output_type": "stream",
     "text": [
      "         ┌─────────────────┐                            ┌───┐┌────────────────┐»\n",
      "q3_0: |0>┤ U3(-0.7854,0,0) ├────────────────────────────┤ X ├┤ U3(0.7854,0,0) ├»\n",
      "         └──────┬───┬──────┘                       ┌───┐└─┬─┘└────────────────┘»\n",
      "q3_1: |0>───────┤ X ├─────────■────────────────────┤ X ├──■────────────────────»\n",
      "         ┌──────┴───┴──────┐┌─┴─┐┌────────────────┐└─┬─┘                       »\n",
      "q3_2: |0>┤ U3(-0.7854,0,0) ├┤ X ├┤ U3(0.7854,0,0) ├──■────■────────────────────»\n",
      "         ├─────────────────┤└───┘└────────────────┘     ┌─┴─┐┌────────────────┐»\n",
      "q3_3: |0>┤ U3(-0.7854,0,0) ├────────────────────────────┤ X ├┤ U3(0.7854,0,0) ├»\n",
      "         ├─────────────────┤                            └───┘└────────────────┘»\n",
      "q3_4: |0>┤ U3(-0.7854,0,0) ├───────────────────────────────────────────────────»\n",
      "         ├─────────────────┤                                                   »\n",
      "q3_5: |0>┤ U3(-0.7854,0,0) ├───────────────────────────────────────────────────»\n",
      "         ├─────────────────┤                                                   »\n",
      "q3_6: |0>┤ U3(-0.7854,0,0) ├───────────────────────────────────────────────────»\n",
      "         ├─────────────────┤                                                   »\n",
      "q3_7: |0>┤ U3(-0.7854,0,0) ├───────────────────────────────────────────────────»\n",
      "         └─────────────────┘                                                   »\n",
      "«                                                 ┌───┐               \n",
      "«q3_0: ──■────■───────────────────────────────────┤ X ├───────────────\n",
      "«      ┌─┴─┐  │                                   └─┬─┘┌───┐          \n",
      "«q3_1: ┤ X ├──┼────■────────────────────────────────┼──┤ X ├──────────\n",
      "«      ├───┤  │    │                                │  └─┬─┘┌───┐     \n",
      "«q3_2: ┤ X ├──┼────┼────■───────────────────────────┼────┼──┤ X ├─────\n",
      "«      └─┬─┘  │    │    │                           │    │  └─┬─┘┌───┐\n",
      "«q3_3: ──■────┼────┼────┼────■──────────────────────┼────┼────┼──┤ X ├\n",
      "«           ┌─┴─┐  │    │    │  ┌────────────────┐  │    │    │  └─┬─┘\n",
      "«q3_4: ─────┤ X ├──┼────┼────┼──┤ U3(0.7854,0,0) ├──■────┼────┼────┼──\n",
      "«           └───┘┌─┴─┐  │    │  ├────────────────┤       │    │    │  \n",
      "«q3_5: ──────────┤ X ├──┼────┼──┤ U3(0.7854,0,0) ├───────■────┼────┼──\n",
      "«                └───┘┌─┴─┐  │  ├────────────────┤            │    │  \n",
      "«q3_6: ───────────────┤ X ├──┼──┤ U3(0.7854,0,0) ├────────────■────┼──\n",
      "«                     └───┘┌─┴─┐├────────────────┤                 │  \n",
      "«q3_7: ────────────────────┤ X ├┤ U3(0.7854,0,0) ├─────────────────■──\n",
      "«                          └───┘└────────────────┘                    \n"
     ]
    }
   ],
   "source": [
    "qreg = QuantumRegister(8)\n",
    "w8 = QuantumCircuit(qreg)\n",
    "w8.x(qreg[1])\n",
    "# 1->2\n",
    "Bdirect(w8, qreg, 2, 1, 0.5)\n",
    "# 1->0\n",
    "# 2->3\n",
    "Bdirect(w8, qreg, 0, 1, 0.5)\n",
    "Bdirect(w8, qreg, 3, 2, 0.5)\n",
    "# 0->4\n",
    "# 1->5\n",
    "# 2->6\n",
    "# 3->7\n",
    "Bdirect(w8, qreg, 4, 0, 0.5)\n",
    "Bdirect(w8, qreg, 5, 1, 0.5)\n",
    "Bdirect(w8, qreg, 6, 2, 0.5)\n",
    "Bdirect(w8, qreg, 7, 3, 0.5)\n",
    "print(w8)\n",
    "job = qiskit.execute(w8, Aer.get_backend('statevector_simulator'))\n",
    "theorical_psi = job.result().get_statevector(w8)\n",
    "#print(theorical_psi)"
   ]
  },
  {
   "cell_type": "code",
   "execution_count": 35,
   "metadata": {},
   "outputs": [
    {
     "data": {
      "application/vnd.jupyter.widget-view+json": {
       "model_id": "1b5d29c7f874464189a48caa9a37ce50",
       "version_major": 2,
       "version_minor": 0
      },
      "text/plain": [
       "HTML(value=\"<p style='font-size:16px;'>Job Status: job is being initialized </p>\")"
      ]
     },
     "metadata": {},
     "output_type": "display_data"
    },
    {
     "data": {
      "application/vnd.jupyter.widget-view+json": {
       "model_id": "a26525f47aa544c7a849d9173539b108",
       "version_major": 2,
       "version_minor": 0
      },
      "text/plain": [
       "HTML(value=\"<p style='font-size:16px;'>Job Status: job is being initialized </p>\")"
      ]
     },
     "metadata": {},
     "output_type": "display_data"
    },
    {
     "name": "stderr",
     "output_type": "stream",
     "text": [
      "Got a 413 code response to /api/Jobs: <!DOCTYPE html>\n",
      "<html lang=\"en\">\n",
      "<head>\n",
      "<meta charset=\"utf-8\">\n",
      "<title>Error</title>\n",
      "</head>\n",
      "<body>\n",
      "<pre>Payload Too Large</pre>\n",
      "</body>\n",
      "</html>\n",
      "\n",
      "Exception in thread Thread-250:\n",
      "Traceback (most recent call last):\n",
      "  File \"D:\\Programmes\\Anaconda3\\envs\\master_pds\\lib\\threading.py\", line 917, in _bootstrap_inner\n",
      "    self.run()\n",
      "  File \"D:\\Programmes\\Anaconda3\\envs\\master_pds\\lib\\threading.py\", line 865, in run\n",
      "    self._target(*self._args, **self._kwargs)\n",
      "  File \"D:\\Programmes\\Anaconda3\\envs\\master_pds\\lib\\site-packages\\qiskit\\tools\\jupyter\\jupyter_magics.py\", line 50, in _html_checker\n",
      "    job_status = job_var.status()\n",
      "  File \"D:\\Programmes\\Anaconda3\\envs\\master_pds\\lib\\site-packages\\qiskit\\providers\\ibmq\\ibmqjob.py\", line 270, in status\n",
      "    raise JobError(str(self._future_captured_exception))\n",
      "qiskit.providers.exceptions.JobError: 'Got a 413 code response to /api/Jobs: <!DOCTYPE html>\\n<html lang=\"en\">\\n<head>\\n<meta charset=\"utf-8\">\\n<title>Error</title>\\n</head>\\n<body>\\n<pre>Payload Too Large</pre>\\n</body>\\n</html>\\n'\n",
      "\n"
     ]
    }
   ],
   "source": [
    "tomo_circuits = state_tomography_circuits(w8, qreg)\n",
    "job = qiskit.execute(tomo_circuits,\n",
    "                     simulator,\n",
    "                     noise_model=noise_model_melbourne,\n",
    "                     coupling_map=coupling_map_melbourne,\n",
    "                     basis_gates=basis_gates_melbourne)\n",
    "job_monitor(job, monitor_async = True)\n",
    "\n",
    "calib_circuit, state_labels = mc.complete_meas_cal(qr=qreg)\n",
    "job_cal = qiskit.execute(calib_circuit,\n",
    "                         simulator,\n",
    "                         noise_model=noise_model_melbourne,\n",
    "                         coupling_map=coupling_map_melbourne,\n",
    "                         basis_gates=basis_gates_melbourne)\n",
    "job_monitor(job_cal, monitor_async=True)"
   ]
  },
  {
   "cell_type": "code",
   "execution_count": 29,
   "metadata": {},
   "outputs": [],
   "source": [
    "job_results = job.result()\n",
    "cal_results = job_cal.result()\n",
    "meas_fitter = mc.CompleteMeasFitter(cal_results, state_labels)\n",
    "correct_results = meas_fitter.filter.apply(job_results)\n",
    "fitter = StateTomographyFitter(correct_results, tomo_circuits)\n",
    "fitted_rho = fitter.fit()\n",
    "fidelity = state_fidelity(theorical_psi, fitted_rho)\n",
    "print(fidelity)"
   ]
  },
  {
   "cell_type": "code",
   "execution_count": null,
   "metadata": {},
   "outputs": [],
   "source": []
  }
 ],
 "metadata": {
  "kernelspec": {
   "display_name": "Python 3",
   "language": "python",
   "name": "python3"
  },
  "language_info": {
   "codemirror_mode": {
    "name": "ipython",
    "version": 3
   },
   "file_extension": ".py",
   "mimetype": "text/x-python",
   "name": "python",
   "nbconvert_exporter": "python",
   "pygments_lexer": "ipython3",
   "version": "3.7.2"
  }
 },
 "nbformat": 4,
 "nbformat_minor": 2
}
